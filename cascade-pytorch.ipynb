{
 "cells": [
  {
   "cell_type": "code",
   "execution_count": 1,
   "id": "e26475f8",
   "metadata": {
    "_cell_guid": "b1076dfc-b9ad-4769-8c92-a6c4dae69d19",
    "_uuid": "8f2839f25d086af736a60e9eeb907d3b93b6e0e5",
    "execution": {
     "iopub.execute_input": "2022-11-23T10:50:07.302511Z",
     "iopub.status.busy": "2022-11-23T10:50:07.301651Z",
     "iopub.status.idle": "2022-11-23T10:50:07.305146Z",
     "shell.execute_reply": "2022-11-23T10:50:07.305761Z",
     "shell.execute_reply.started": "2022-11-17T08:55:24.675258Z"
    },
    "papermill": {
     "duration": 0.089421,
     "end_time": "2022-11-23T10:50:07.306105",
     "exception": false,
     "start_time": "2022-11-23T10:50:07.216684",
     "status": "completed"
    },
    "tags": []
   },
   "outputs": [],
   "source": [
    "# This Python 3 environment comes with many helpful analytics libraries installed\n",
    "# It is defined by the kaggle/python Docker image: https://github.com/kaggle/docker-python\n",
    "# For example, here's several helpful packages to load\n",
    "\n",
    "import numpy as np # linear algebra\n",
    "import pandas as pd # data processing, CSV file I/O (e.g. pd.read_csv)\n",
    "\n",
    "# Input data files are available in the read-only \"../input/\" directory\n",
    "# For example, running this (by clicking run or pressing Shift+Enter) will list all files under the input directory\n",
    "\n",
    "import os\n",
    "for dirname, _, filenames in os.walk('/kaggle/input'):\n",
    "    for filename in filenames:\n",
    "        print(os.path.join(dirname, filename))\n",
    "\n",
    "# You can write up to 20GB to the current directory (/kaggle/working/) that gets preserved as output when you create a version using \"Save & Run All\" \n",
    "# You can also write temporary files to /kaggle/temp/, but they won't be saved outside of the current session"
   ]
  },
  {
   "cell_type": "code",
   "execution_count": 2,
   "id": "06b8d49f",
   "metadata": {
    "execution": {
     "iopub.execute_input": "2022-11-23T10:50:07.443238Z",
     "iopub.status.busy": "2022-11-23T10:50:07.442482Z",
     "iopub.status.idle": "2022-11-23T10:50:21.735740Z",
     "shell.execute_reply": "2022-11-23T10:50:21.736328Z",
     "shell.execute_reply.started": "2022-11-17T08:55:24.706172Z"
    },
    "papermill": {
     "duration": 14.352253,
     "end_time": "2022-11-23T10:50:21.736535",
     "exception": false,
     "start_time": "2022-11-23T10:50:07.384282",
     "status": "completed"
    },
    "tags": []
   },
   "outputs": [
    {
     "name": "stdout",
     "output_type": "stream",
     "text": [
      "Collecting torchsummary\r\n",
      "  Downloading torchsummary-1.5.1-py3-none-any.whl (2.8 kB)\r\n",
      "Installing collected packages: torchsummary\r\n",
      "Successfully installed torchsummary-1.5.1\r\n",
      "\u001b[33mWARNING: Running pip as the 'root' user can result in broken permissions and conflicting behaviour with the system package manager. It is recommended to use a virtual environment instead: https://pip.pypa.io/warnings/venv\u001b[0m\r\n",
      "nvcc: NVIDIA (R) Cuda compiler driver\r\n",
      "Copyright (c) 2005-2020 NVIDIA Corporation\r\n",
      "Built on Wed_Jul_22_19:09:09_PDT_2020\r\n",
      "Cuda compilation tools, release 11.0, V11.0.221\r\n",
      "Build cuda_11.0_bu.TC445_37.28845127_0\r\n",
      "Python 3.7.12\r\n",
      "1.9.1\n"
     ]
    }
   ],
   "source": [
    "import matplotlib.pyplot as plt\n",
    "\n",
    "import torch\n",
    "import torch.utils.data\n",
    "!pip install torchsummary\n",
    "from torchsummary import summary\n",
    "from torch import nn, optim\n",
    "from torch.nn import functional as F\n",
    "from torchvision import datasets, transforms\n",
    "import torchvision.utils\n",
    "from torch.utils.data import DataLoader\n",
    "import warnings\n",
    "import random\n",
    "import time\n",
    "import fastprogress\n",
    "\n",
    "!nvcc --version\n",
    "!python --version\n",
    "print(torch.__version__)"
   ]
  },
  {
   "cell_type": "markdown",
   "id": "a347dad6",
   "metadata": {
    "papermill": {
     "duration": 0.04859,
     "end_time": "2022-11-23T10:50:21.834245",
     "exception": false,
     "start_time": "2022-11-23T10:50:21.785655",
     "status": "completed"
    },
    "tags": []
   },
   "source": [
    "# First part: Data Manipulation"
   ]
  },
  {
   "cell_type": "code",
   "execution_count": 3,
   "id": "f0e34d64",
   "metadata": {
    "execution": {
     "iopub.execute_input": "2022-11-23T10:50:21.941694Z",
     "iopub.status.busy": "2022-11-23T10:50:21.940747Z",
     "iopub.status.idle": "2022-11-23T10:50:21.943059Z",
     "shell.execute_reply": "2022-11-23T10:50:21.943530Z",
     "shell.execute_reply.started": "2022-11-17T08:55:39.333819Z"
    },
    "papermill": {
     "duration": 0.060852,
     "end_time": "2022-11-23T10:50:21.943685",
     "exception": false,
     "start_time": "2022-11-23T10:50:21.882833",
     "status": "completed"
    },
    "tags": []
   },
   "outputs": [],
   "source": [
    "def get_device(cuda_preference=True):\n",
    "    \"\"\"Gets pytorch device object. If cuda_preference=True and \n",
    "        cuda is available on your system, returns a cuda device.\n",
    "    \n",
    "    Args:\n",
    "        cuda_preference: bool, default True\n",
    "            Set to true if you would like to get a cuda device\n",
    "            \n",
    "    Returns: pytorch device object\n",
    "            Pytorch device\n",
    "    \"\"\"\n",
    "    \n",
    "    print('cuda available:', torch.cuda.is_available(), \n",
    "          '; cudnn available:', torch.backends.cudnn.is_available(),\n",
    "          '; num devices:', torch.cuda.device_count())\n",
    "    \n",
    "    use_cuda = False if not cuda_preference else torch.cuda.is_available()\n",
    "    device = torch.device('cuda:0' if use_cuda else 'cpu')\n",
    "    device_name = torch.cuda.get_device_name(device) if use_cuda else 'cpu'\n",
    "    print('Using device', device_name)\n",
    "    return device"
   ]
  },
  {
   "cell_type": "code",
   "execution_count": 4,
   "id": "22c9c5b2",
   "metadata": {
    "execution": {
     "iopub.execute_input": "2022-11-23T10:50:22.155370Z",
     "iopub.status.busy": "2022-11-23T10:50:22.150115Z",
     "iopub.status.idle": "2022-11-23T10:50:22.159214Z",
     "shell.execute_reply": "2022-11-23T10:50:22.160207Z",
     "shell.execute_reply.started": "2022-11-17T08:55:39.344622Z"
    },
    "papermill": {
     "duration": 0.167487,
     "end_time": "2022-11-23T10:50:22.160409",
     "exception": false,
     "start_time": "2022-11-23T10:50:21.992922",
     "status": "completed"
    },
    "tags": []
   },
   "outputs": [
    {
     "name": "stdout",
     "output_type": "stream",
     "text": [
      "cuda available: True ; cudnn available: True ; num devices: 2\n",
      "Using device Tesla T4\n"
     ]
    }
   ],
   "source": [
    "device = get_device()\n",
    "data_dir = \"/kaggle/working/\""
   ]
  },
  {
   "cell_type": "markdown",
   "id": "d765a089",
   "metadata": {
    "papermill": {
     "duration": 0.049385,
     "end_time": "2022-11-23T10:50:22.259921",
     "exception": false,
     "start_time": "2022-11-23T10:50:22.210536",
     "status": "completed"
    },
    "tags": []
   },
   "source": [
    "### Introducing a new class which will represent our multitask datasets"
   ]
  },
  {
   "cell_type": "code",
   "execution_count": 5,
   "id": "0dd1e40a",
   "metadata": {
    "execution": {
     "iopub.execute_input": "2022-11-23T10:50:22.369373Z",
     "iopub.status.busy": "2022-11-23T10:50:22.368416Z",
     "iopub.status.idle": "2022-11-23T10:50:22.370685Z",
     "shell.execute_reply": "2022-11-23T10:50:22.371202Z",
     "shell.execute_reply.started": "2022-11-17T08:55:39.362449Z"
    },
    "papermill": {
     "duration": 0.06295,
     "end_time": "2022-11-23T10:50:22.371353",
     "exception": false,
     "start_time": "2022-11-23T10:50:22.308403",
     "status": "completed"
    },
    "tags": []
   },
   "outputs": [],
   "source": [
    "class MultitaskDataset(torch.utils.data.Dataset):\n",
    "    def __init__(self, data, ntasks, nclasses = 10, multi_out = False):\n",
    "        self.data = data\n",
    "        self._current_task = 0\n",
    "        self.ntasks = ntasks\n",
    "        self.nclasses = nclasses\n",
    "        self.multi_out = multi_out\n",
    "        if multi_out:\n",
    "            self.__init_output_masks__()\n",
    "    @property\n",
    "    def current_task(self):\n",
    "        return self._current_task \n",
    "    \n",
    "    def __init_output_masks__(self):\n",
    "        self.masks = []\n",
    "        for k in range(len(self.data)):\n",
    "            mask = np.zeros((self.nclasses,))\n",
    "            for x,y in self.data[k]:\n",
    "                mask[y] = 1.0\n",
    "            output_mask = torch.from_numpy(mask)\n",
    "            self.masks.append(output_mask)\n",
    "            \n",
    "    @property\n",
    "    def current_mask(self):\n",
    "        if self.multi_out:\n",
    "            return self.masks[self._current_task]\n",
    "        else:\n",
    "            return torch.tensor([1.0 for k in range(self.nclasses)])\n",
    "    \n",
    "    def __getitem__(self,key):\n",
    "        if self.data is not None:\n",
    "            return self.data[self._current_task][key]\n",
    "        else:\n",
    "            warnings.warn(\"The dataset is empty, fill it before accessing it\")\n",
    "            return 0\n",
    "        \n",
    "    def __len__(self):\n",
    "        \"\"\"\n",
    "        Returns the length of the current dataset\n",
    "        \"\"\"\n",
    "        return len(self.data[self._current_task])\n",
    "    \n",
    "    @property\n",
    "    def lengths(self):\n",
    "        \"\"\"\n",
    "        Returns an array with the list of lengths of each dataset\n",
    "        \"\"\"\n",
    "        return [len(self.data[i]) for i in range(self.ntasks)]\n",
    "    \n",
    "    def go_next(self):\n",
    "        \"\"\"\n",
    "        Goes to the next task\n",
    "        \"\"\"\n",
    "        self._current_task +=1\n",
    "        if self._current_task >= self.ntasks:\n",
    "            self._current_task = 0\n",
    "        return self._current_task\n",
    "    \n",
    "    def task(self,task_n):\n",
    "        \"\"\"\n",
    "        Goes to the specified task\n",
    "        \"\"\"\n",
    "        if task_n in range(self.ntasks):\n",
    "            self._current_task = task_n\n",
    "        else:\n",
    "            warnings.warn(\"The selected task is not availble, setting it to default: 0\")\n",
    "            self._current_task = 0"
   ]
  },
  {
   "cell_type": "code",
   "execution_count": 6,
   "id": "fbedff34",
   "metadata": {
    "execution": {
     "iopub.execute_input": "2022-11-23T10:50:22.487438Z",
     "iopub.status.busy": "2022-11-23T10:50:22.486518Z",
     "iopub.status.idle": "2022-11-23T10:50:22.489201Z",
     "shell.execute_reply": "2022-11-23T10:50:22.488687Z",
     "shell.execute_reply.started": "2022-11-17T08:55:39.379969Z"
    },
    "papermill": {
     "duration": 0.069566,
     "end_time": "2022-11-23T10:50:22.489335",
     "exception": false,
     "start_time": "2022-11-23T10:50:22.419769",
     "status": "completed"
    },
    "tags": []
   },
   "outputs": [],
   "source": [
    "# utils.py\n",
    "def grab_data(data_dir, name, **kwargs):\n",
    "    trainset = torchvision.datasets.MNIST(data_dir, train=True, download=True, \n",
    "                                            transform=torchvision.transforms.ToTensor())\n",
    "\n",
    "    # Get normalization transform\n",
    "    num_samples = trainset.data.shape[0]\n",
    "    trainloader = torch.utils.data.DataLoader(trainset, batch_size=num_samples)\n",
    "    imgs, _ = next(iter(trainloader))\n",
    "    dataset_mean = torch.mean(imgs, dim=(0,2,3))\n",
    "    dataset_std = torch.std(imgs, dim=(0,2,3))\n",
    "    print(\"mean:\",dataset_mean,\"std\",dataset_std)\n",
    "    normalized_transform = torchvision.transforms.Compose([\n",
    "        torchvision.transforms.ToTensor(),\n",
    "        torchvision.transforms.Normalize(dataset_mean, dataset_std)\n",
    "    ])\n",
    "    trainset = datasets.MNIST(data_dir, train = True, download=True, transform = normalized_transform)\n",
    "    testset = datasets.MNIST(data_dir, train = False, download=True, transform = normalized_transform)\n",
    "    if name == \"splitMNIST\":\n",
    "        return preprocess_split(trainset), preprocess_split(testset)\n",
    "    elif name == \"shuffledMNIST\":\n",
    "        ntasks = kwargs[\"ntasks\"] if \"ntasks\" in kwargs.keys() else 5 \n",
    "        return preprocess_shuffle(trainset, ntasks = ntasks), preprocess_shuffle(testset, ntasks = ntasks)\n",
    "    else:\n",
    "        raise NotImplementedError\n",
    "    \n",
    "def preprocess_split(dataset, order = \"num\"):\n",
    "    \"\"\"Splits the MNIST dataset into 5 different categories to be\n",
    "        used for training on the splitMNIST dataset\n",
    "\n",
    "        Args:\n",
    "            dataset (torch.utils.data.Dataset): dataset to split\n",
    "            order (str, optional): either \"num\" or \"rand\", defines the \n",
    "                order in which we want to group the numbers in different\n",
    "                categories, numerically or randomly\n",
    "        Returns:\n",
    "            MultitaskDataset: a dataset containing all the split tasks\n",
    "    \"\"\"\n",
    "    data = [[] for k in range(5)]\n",
    "    ntasks = 5\n",
    "    if order == \"num\":\n",
    "        o = [0,1,2,3,4]\n",
    "        n = [0,1,2,3,4,5,6,7,8,9]\n",
    "    elif order == \"rand\":\n",
    "        o = random.sample([0,1,2,3,4],5)\n",
    "        n = random.sample([0,1,2,3,4,5,6,7,8,9],10)\n",
    "    for sample in dataset:\n",
    "        l = sample[1]\n",
    "        if l == n[0] or l == n[1]:\n",
    "            data[o[0]].append(sample)\n",
    "        elif l == n[2] or l == n[3]:\n",
    "            data[o[1]].append(sample)\n",
    "        elif l == n[4] or l == n[5]:\n",
    "            data[o[2]].append(sample)\n",
    "        elif l == n[6] or l == n[7]:\n",
    "            data[o[3]].append(sample)\n",
    "        else:\n",
    "            data[4].append(sample)\n",
    "    return MultitaskDataset(data, 5, nclasses = ntasks*2, multi_out = True)\n",
    "\n",
    "\n",
    "def preprocess_shuffle(dataset, ntasks = 5):\n",
    "    \"\"\"Shuffles the pixels in the MNIST dataset into [ntasks (max. 10)] different categories \n",
    "        to be used for training on the shuffledMNIST dataset.\n",
    "        The seeds are kept consistent throughout calls, which allows for creation\n",
    "        of automatically consistent training and test dataset.\n",
    "\n",
    "        Args:\n",
    "            dataset (torch.utils.data.Dataset): dataset to split\n",
    "            ntasks: number of tasks to be created for the new dataset\n",
    "        Returns:\n",
    "            MultitaskDataset: a dataset containing all the split tasks\n",
    "    \"\"\"\n",
    "    def shuffle_pixels(seed, data):\n",
    "        \"\"\"\n",
    "          Shuffles the pixels of the images in a dataset given a seed for the randomizer\n",
    "          In this implementation we don't use this, but let's just keep it because it might come in handy later on.\n",
    "        \"\"\"\n",
    "        new_data = []\n",
    "        # Get the shape of the input image\n",
    "        shape = data[0][0].shape\n",
    "        for i,x in enumerate(data):\n",
    "            # Using numpy arrays seems to be much faster than for tensors\n",
    "            y = torch.flatten(x[0]).numpy()\n",
    "            random.Random(seed).shuffle(y)\n",
    "            y = torch.from_numpy(np.reshape(y,shape))\n",
    "            new_data.append((y,x[1]))\n",
    "            if i % 10000 == 0:\n",
    "                print(\"Went over\",i,\"samples\")\n",
    "        return new_data\n",
    "    # Define the standard random seeds to be used for generation\n",
    "    seeds = [15,42,57,1,98,105,1275,2,17,58]\n",
    "    data = []\n",
    "    print(\"Shuffling for ntasks:\", ntasks)\n",
    "    for seed in seeds[:ntasks]:\n",
    "        print(\"Creating shuffle for seed\", seed)\n",
    "        data.append(shuffle_pixels(seed, dataset))\n",
    "        print(\"Correctly created\")\n",
    "    return MultitaskDataset(data, ntasks, nclasses = 10)"
   ]
  },
  {
   "cell_type": "markdown",
   "id": "558e7bf2",
   "metadata": {
    "papermill": {
     "duration": 0.048021,
     "end_time": "2022-11-23T10:50:22.585516",
     "exception": false,
     "start_time": "2022-11-23T10:50:22.537495",
     "status": "completed"
    },
    "tags": []
   },
   "source": [
    "## Importing and checking the datasets"
   ]
  },
  {
   "cell_type": "code",
   "execution_count": 7,
   "id": "d8206f10",
   "metadata": {
    "execution": {
     "iopub.execute_input": "2022-11-23T10:50:22.689257Z",
     "iopub.status.busy": "2022-11-23T10:50:22.688379Z",
     "iopub.status.idle": "2022-11-23T10:50:43.057109Z",
     "shell.execute_reply": "2022-11-23T10:50:43.056518Z",
     "shell.execute_reply.started": "2022-11-17T08:55:39.406101Z"
    },
    "papermill": {
     "duration": 20.42302,
     "end_time": "2022-11-23T10:50:43.057259",
     "exception": false,
     "start_time": "2022-11-23T10:50:22.634239",
     "status": "completed"
    },
    "tags": []
   },
   "outputs": [
    {
     "name": "stdout",
     "output_type": "stream",
     "text": [
      "Datasets do not exist, creating them\n",
      "Downloading http://yann.lecun.com/exdb/mnist/train-images-idx3-ubyte.gz\n",
      "Downloading http://yann.lecun.com/exdb/mnist/train-images-idx3-ubyte.gz to /kaggle/working/MNIST/raw/train-images-idx3-ubyte.gz\n"
     ]
    },
    {
     "data": {
      "application/vnd.jupyter.widget-view+json": {
       "model_id": "b0b9c863a0ed4408aeed9818fdd19518",
       "version_major": 2,
       "version_minor": 0
      },
      "text/plain": [
       "  0%|          | 0/9912422 [00:00<?, ?it/s]"
      ]
     },
     "metadata": {},
     "output_type": "display_data"
    },
    {
     "name": "stdout",
     "output_type": "stream",
     "text": [
      "Extracting /kaggle/working/MNIST/raw/train-images-idx3-ubyte.gz to /kaggle/working/MNIST/raw\n",
      "\n",
      "Downloading http://yann.lecun.com/exdb/mnist/train-labels-idx1-ubyte.gz\n",
      "Downloading http://yann.lecun.com/exdb/mnist/train-labels-idx1-ubyte.gz to /kaggle/working/MNIST/raw/train-labels-idx1-ubyte.gz\n"
     ]
    },
    {
     "data": {
      "application/vnd.jupyter.widget-view+json": {
       "model_id": "bcfeb1f2dc9c4b07aa8e4042a5589610",
       "version_major": 2,
       "version_minor": 0
      },
      "text/plain": [
       "  0%|          | 0/28881 [00:00<?, ?it/s]"
      ]
     },
     "metadata": {},
     "output_type": "display_data"
    },
    {
     "name": "stdout",
     "output_type": "stream",
     "text": [
      "Extracting /kaggle/working/MNIST/raw/train-labels-idx1-ubyte.gz to /kaggle/working/MNIST/raw\n",
      "\n",
      "Downloading http://yann.lecun.com/exdb/mnist/t10k-images-idx3-ubyte.gz\n",
      "Downloading http://yann.lecun.com/exdb/mnist/t10k-images-idx3-ubyte.gz to /kaggle/working/MNIST/raw/t10k-images-idx3-ubyte.gz\n"
     ]
    },
    {
     "data": {
      "application/vnd.jupyter.widget-view+json": {
       "model_id": "45d82378d839460795b0c3a81d17a21d",
       "version_major": 2,
       "version_minor": 0
      },
      "text/plain": [
       "  0%|          | 0/1648877 [00:00<?, ?it/s]"
      ]
     },
     "metadata": {},
     "output_type": "display_data"
    },
    {
     "name": "stdout",
     "output_type": "stream",
     "text": [
      "Extracting /kaggle/working/MNIST/raw/t10k-images-idx3-ubyte.gz to /kaggle/working/MNIST/raw\n",
      "\n",
      "Downloading http://yann.lecun.com/exdb/mnist/t10k-labels-idx1-ubyte.gz\n",
      "Downloading http://yann.lecun.com/exdb/mnist/t10k-labels-idx1-ubyte.gz to /kaggle/working/MNIST/raw/t10k-labels-idx1-ubyte.gz\n"
     ]
    },
    {
     "data": {
      "application/vnd.jupyter.widget-view+json": {
       "model_id": "bc7e1dd7aa1e432ca50e304de28d9267",
       "version_major": 2,
       "version_minor": 0
      },
      "text/plain": [
       "  0%|          | 0/4542 [00:00<?, ?it/s]"
      ]
     },
     "metadata": {},
     "output_type": "display_data"
    },
    {
     "name": "stdout",
     "output_type": "stream",
     "text": [
      "Extracting /kaggle/working/MNIST/raw/t10k-labels-idx1-ubyte.gz to /kaggle/working/MNIST/raw\n",
      "\n"
     ]
    },
    {
     "name": "stderr",
     "output_type": "stream",
     "text": [
      "/opt/conda/lib/python3.7/site-packages/torchvision/datasets/mnist.py:498: UserWarning: The given NumPy array is not writeable, and PyTorch does not support non-writeable tensors. This means you can write to the underlying (supposedly non-writeable) NumPy array using the tensor. You may want to copy the array to protect its data or make it writeable before converting it to a tensor. This type of warning will be suppressed for the rest of this program. (Triggered internally at  /usr/local/src/pytorch/torch/csrc/utils/tensor_numpy.cpp:174.)\n",
      "  return torch.from_numpy(parsed.astype(m[2], copy=False)).view(*s)\n"
     ]
    },
    {
     "name": "stdout",
     "output_type": "stream",
     "text": [
      "mean: tensor([0.1307]) std tensor([0.3081])\n"
     ]
    }
   ],
   "source": [
    "ntasks = 5\n",
    "file_train = \"/kaggle/working/traindata.set\"\n",
    "file_test = \"/kaggle/working/testdata.set\"\n",
    "if os.path.isfile(file_train) and os.path.isfile(file_test):\n",
    "    print(\"Files found, loading datasets\")\n",
    "    traindata = torch.load(file_train)\n",
    "    testdata = torch.load(file_test)\n",
    "    print(\"Correctly loaded\")\n",
    "else:\n",
    "    print(\"Datasets do not exist, creating them\")\n",
    "    traindata, testdata = grab_data(data_dir, \"splitMNIST\", ntasks = ntasks)\n",
    "    torch.save(traindata, file_train)\n",
    "    torch.save(testdata, file_test)"
   ]
  },
  {
   "cell_type": "code",
   "execution_count": 8,
   "id": "61b60c9d",
   "metadata": {
    "execution": {
     "iopub.execute_input": "2022-11-23T10:50:43.167218Z",
     "iopub.status.busy": "2022-11-23T10:50:43.166575Z",
     "iopub.status.idle": "2022-11-23T10:50:43.170629Z",
     "shell.execute_reply": "2022-11-23T10:50:43.170190Z",
     "shell.execute_reply.started": "2022-11-17T08:55:42.490055Z"
    },
    "papermill": {
     "duration": 0.060983,
     "end_time": "2022-11-23T10:50:43.170754",
     "exception": false,
     "start_time": "2022-11-23T10:50:43.109771",
     "status": "completed"
    },
    "tags": []
   },
   "outputs": [],
   "source": [
    "#TODO: Generate a validation data split   "
   ]
  },
  {
   "cell_type": "code",
   "execution_count": 9,
   "id": "c5f4c0ea",
   "metadata": {
    "execution": {
     "iopub.execute_input": "2022-11-23T10:50:43.281904Z",
     "iopub.status.busy": "2022-11-23T10:50:43.281144Z",
     "iopub.status.idle": "2022-11-23T10:50:43.284049Z",
     "shell.execute_reply": "2022-11-23T10:50:43.284474Z",
     "shell.execute_reply.started": "2022-11-17T08:55:42.497166Z"
    },
    "papermill": {
     "duration": 0.061005,
     "end_time": "2022-11-23T10:50:43.284635",
     "exception": false,
     "start_time": "2022-11-23T10:50:43.223630",
     "status": "completed"
    },
    "tags": []
   },
   "outputs": [],
   "source": [
    "# So, in the simulations it seems that 128 is better than 64 for splitMNIST, 64 is slower and doesn't perform significantly better\n",
    "batch_size = 128\n",
    "trainloader = torch.utils.data.DataLoader(traindata, batch_size = batch_size, shuffle = True)\n",
    "testloader = torch.utils.data.DataLoader(testdata, batch_size = batch_size, shuffle = True)"
   ]
  },
  {
   "cell_type": "code",
   "execution_count": 10,
   "id": "ecda0de7",
   "metadata": {
    "execution": {
     "iopub.execute_input": "2022-11-23T10:50:43.399157Z",
     "iopub.status.busy": "2022-11-23T10:50:43.398152Z",
     "iopub.status.idle": "2022-11-23T10:50:43.975632Z",
     "shell.execute_reply": "2022-11-23T10:50:43.974636Z",
     "shell.execute_reply.started": "2022-11-17T08:55:42.511516Z"
    },
    "papermill": {
     "duration": 0.639531,
     "end_time": "2022-11-23T10:50:43.975772",
     "exception": false,
     "start_time": "2022-11-23T10:50:43.336241",
     "status": "completed"
    },
    "tags": []
   },
   "outputs": [
    {
     "name": "stdout",
     "output_type": "stream",
     "text": [
      "5\n"
     ]
    },
    {
     "data": {
      "image/png": "[encoded data removed]",
      "text/plain": [
       "<Figure size 864x144 with 5 Axes>"
      ]
     },
     "metadata": {
      "needs_background": "light"
     },
     "output_type": "display_data"
    }
   ],
   "source": [
    "print(traindata.ntasks)\n",
    "fig, ax = plt.subplots(1,5, figsize = (12,2))\n",
    "for i in range(5):\n",
    "    ims,lbls = next(iter(trainloader))\n",
    "    ax[i].imshow(torch.squeeze(ims[1]).numpy())\n",
    "    ax[i].set_title(\"lbl: \" + str(lbls[1].item()) + \" task \" + str(traindata.current_task))\n",
    "    traindata.go_next()\n",
    "fig.show()"
   ]
  },
  {
   "cell_type": "code",
   "execution_count": 11,
   "id": "f60740c1",
   "metadata": {
    "execution": {
     "iopub.execute_input": "2022-11-23T10:50:44.084982Z",
     "iopub.status.busy": "2022-11-23T10:50:44.084091Z",
     "iopub.status.idle": "2022-11-23T10:50:44.087748Z",
     "shell.execute_reply": "2022-11-23T10:50:44.088412Z",
     "shell.execute_reply.started": "2022-11-17T08:55:43.172808Z"
    },
    "papermill": {
     "duration": 0.060186,
     "end_time": "2022-11-23T10:50:44.088603",
     "exception": false,
     "start_time": "2022-11-23T10:50:44.028417",
     "status": "completed"
    },
    "tags": []
   },
   "outputs": [
    {
     "name": "stdout",
     "output_type": "stream",
     "text": [
      "tensor([1., 1., 0., 0., 0., 0., 0., 0., 0., 0.], dtype=torch.float64)\n",
      "10\n"
     ]
    }
   ],
   "source": [
    "print(trainloader.dataset.current_mask)\n",
    "print(trainloader.dataset.nclasses)"
   ]
  },
  {
   "cell_type": "markdown",
   "id": "af44c6bb",
   "metadata": {
    "papermill": {
     "duration": 0.050519,
     "end_time": "2022-11-23T10:50:44.192687",
     "exception": false,
     "start_time": "2022-11-23T10:50:44.142168",
     "status": "completed"
    },
    "tags": []
   },
   "source": [
    "# Second part: Defining the model"
   ]
  },
  {
   "cell_type": "code",
   "execution_count": 12,
   "id": "9ca67136",
   "metadata": {
    "execution": {
     "iopub.execute_input": "2022-11-23T10:50:44.322634Z",
     "iopub.status.busy": "2022-11-23T10:50:44.321712Z",
     "iopub.status.idle": "2022-11-23T10:50:44.323733Z",
     "shell.execute_reply": "2022-11-23T10:50:44.324182Z",
     "shell.execute_reply.started": "2022-11-17T08:55:43.230686Z"
    },
    "papermill": {
     "duration": 0.079858,
     "end_time": "2022-11-23T10:50:44.324363",
     "exception": false,
     "start_time": "2022-11-23T10:50:44.244505",
     "status": "completed"
    },
    "tags": []
   },
   "outputs": [],
   "source": [
    "# utils.py\n",
    "class CascadeSequential(nn.Sequential):\n",
    "    def __init__(self,*args):\n",
    "        \"\"\"\n",
    "        Initialize the CascadeSequential like a normal Sequential model.\n",
    "        \n",
    "        AFTER specifying your sequential architecture you should initialize\n",
    "        the extra parameters by calling model.init_params. \n",
    "        \n",
    "        If you call init_params (also possible) BEFORE specifying your layers \n",
    "        then you should call model.init_cascade after having done that.\n",
    "        \"\"\"\n",
    "        super().__init__(*args)\n",
    "    \n",
    "        \n",
    "    def init_params(self, nlayers = 4, c0 = 2, g0 = 2, tau = 1, init_method = 'clone', **kwargs):\n",
    "        self.g = self.__init_g__(nlayers, g0)\n",
    "        self.C = self.__init_C__(nlayers, c0)\n",
    "        self.nlayers = nlayers\n",
    "        self.cascade = None\n",
    "        self.tau = tau\n",
    "        if len(self) != 0:\n",
    "            self.init_cascade(init_method, **kwargs)\n",
    "        \n",
    "        else:\n",
    "            print(\"No layers have been detected, cascade will not be initialized\")\n",
    "    \n",
    "    def __init_g__(self,n, g0):\n",
    "        g = np.zeros(len(range(0,n+1))).astype(np.float32)\n",
    "        for i in range(0, n+1):\n",
    "            g[i] = (g0**(-i-1))\n",
    "        return g\n",
    "    \n",
    "    def __init_C__(self,n,C0):\n",
    "        C = np.zeros(len(range(0,n+1))).astype(np.float32)\n",
    "        for i in range(0, n+1):\n",
    "            C[i] = (C0**(i))\n",
    "        return C\n",
    "    \n",
    "    def init_cascade(self, init_method, **kwargs):\n",
    "        if sum(p.numel() for p in self.parameters()) == 0:\n",
    "            raise AttributeError(\"The model has no parameters, before initializing the cascade you must initialize the model weights\")\n",
    "        # Now actually initialize the cascade\n",
    "        self.n_param_layers = sum(1 for p in model.parameters()) \n",
    "        # Setting up the tau mask (this opens the possibility to use different time constants for different layers!)\n",
    "        self.tau = self.tau * torch.ones(self.n_param_layers)\n",
    "        # Resetting tau to a mask for which layers we'll actually use in case \n",
    "        # the cascade is not implemented on all of them.\n",
    "        if \"layers\" in kwargs.keys():\n",
    "            tmp = self.tau[0].item()\n",
    "            self.tau[:] *= 0\n",
    "            self.tau[kwargs[\"layers\"]] += tmp\n",
    "        self.cascade = [[] for k in range(self.n_param_layers)]\n",
    "        for i,params in zip(range(self.n_param_layers),model.parameters()):\n",
    "            # We make two extra copies of the weights which will be useful in cascade_step\n",
    "            for k in range(self.nlayers+2):\n",
    "                # This initialization can be played with\n",
    "                self.cascade[i].append(params.clone().detach())\n",
    "                if init_method == 'clone':\n",
    "                    self.cascade[i][k] *= self.init_multiplyer\n",
    "                elif init_method == 'xavier':\n",
    "                    if len(self.cascade[i][k].shape)>= 2:\n",
    "                        torch.nn.init.xavier_uniform_(self.cascade[i][k])\n",
    "                    else:\n",
    "                        self.cascade[i][k] *= 0.0\n",
    "                elif init_method == 'exp':\n",
    "                    self.cascade[i][k]*= self.init_multiplyer**(k+1)\n",
    "            # This trick allows for leakage from the last layer of the cascade\n",
    "            # Covers the case n = nlayers-1 in the cascade_step function\n",
    "            self.cascade[i][self.nlayers] *= 0.0\n",
    "        if \"verbose\" in kwargs.keys() and kwargs[\"verbose\"] == True:\n",
    "            print(f\"Cascade with {self.nlayers} layers has been initialized\")\n",
    "            \n",
    "    def to(self, *args,**kwargs):\n",
    "        # First use the normal model.to\n",
    "        super().to(*args,**kwargs)\n",
    "        # Then apply the same to the cascade\n",
    "        for i in range(len(self.cascade)):\n",
    "            for k in range(self.nlayers+2):\n",
    "                self.cascade[i][k] = self.cascade[i][k].to(*args,**kwargs)\n",
    "                #print(self.cascade[i][k].device)\n",
    "    \n",
    "    def cascade_step(self):\n",
    "        # Just to make sure no gradients are accounted for in this step\n",
    "        with torch.no_grad():\n",
    "            for i, params in zip(range(self.n_param_layers), self.parameters()):\n",
    "                # Update the last layer to copy the weights ([n-1] = -1 covers n=0)\n",
    "                params += self.tau[i]/self.C[0]*self.g[0]*(self.cascade[i][0]-params)\n",
    "                self.cascade[i][-1] = params.clone().detach()\n",
    "                # Trying to get rid of the leakage to see if I can work around it\n",
    "                self.cascade[i][self.nlayers] = self.cascade[i][self.nlayers-1]\n",
    "                changes = [[] for k in range(self.nlayers)]\n",
    "                for n in range(self.nlayers):\n",
    "                    changes[n] = self.tau[i]/self.C[n+1]*(self.g[n]*(self.cascade[i][n-1]-self.cascade[i][n])\n",
    "                                                   + self.g[n+1]*(self.cascade[i][n+1]-self.cascade[i][n]))\n",
    "                for n in range(self.nlayers):\n",
    "                    self.cascade[i][n] += changes[n]\n",
    "                    "
   ]
  },
  {
   "cell_type": "markdown",
   "id": "edec94ea",
   "metadata": {
    "papermill": {
     "duration": 0.052304,
     "end_time": "2022-11-23T10:50:44.431650",
     "exception": false,
     "start_time": "2022-11-23T10:50:44.379346",
     "status": "completed"
    },
    "tags": []
   },
   "source": [
    "### Some notes on previous errors that I got, just in case something similar happens again."
   ]
  },
  {
   "cell_type": "markdown",
   "id": "a3c21774",
   "metadata": {
    "papermill": {
     "duration": 0.05539,
     "end_time": "2022-11-23T10:50:44.539329",
     "exception": false,
     "start_time": "2022-11-23T10:50:44.483939",
     "status": "completed"
    },
    "tags": []
   },
   "source": [
    "Ok something cool:\n",
    "At the start of the experiment I set the cascade to be a copy of the weights, so when I compute the gradient the cascade part gives no contribution, and in fact if I just repeat the same experiment using only the crossentropy loss (with a halved learning rate), then I get exactly the same result. So then what I have to do is do 2 time steps: in the first one I only use CrossEntropy, and in the second one I actually implement the cascade dynamics.\n",
    "Ok it does not compute the gradient correctly over the cascade part of the loss.\n",
    "\n",
    "I should try to separate the loss in two losses so that I can see the gradients computed from each loss and see if they correspond to each other, because right now I have no way of checking that they're actually the same (even though it does look like the order of magnitude is the same)\n",
    "\n",
    "Okay I do need to retain the graph because when the loss is backpropagated the nodes corresponding to the cascade are deleted, which means that on the next call when we backpropagate we're referencing something that is not part of the network used for backprop anymore. An alternative would be to find a way to create these nodes in another way by creating pytorch variables associated with the cascade, but not sure how to do that for now.\n",
    "\n",
    "Okay it does seem like something weird happens in the \"optimizer.step()\" function because before doing that the values of the gradients are exactly the same but then if I change the weights manually or if I assign the full loss to the optimizer there are differences arising (order of 1e-9) in the values of the weights after updates. Or maybe there is some leakage from the \"torch.no_grad()\" and the optimizer is registering some change in the weights? Consider asking on pytorch forum.\n",
    "\n",
    "Just to be sure check that the results remain consistent over a few more timesteps.\n",
    "\n",
    "There's something very weird going on: if I initialize the cascade at different percentages of \"fullness\" of the weights themselves the calculations for the gradients don't actually match (there seems to be an actual functional relationship though!), now going to look at what kind of relationship there is between the two to see what's going on.\n",
    "\n",
    "Definitely weird!!! Soo, the functional relationship is $$\\frac{autograd(c,w)}{manualgrad(c,w)} = 1 - \\frac{c_0}{w_0}$$\n",
    "\n",
    "Also! The timescale Tau makes actually a very big difference, if it's too big the system goes into crazy oscillations and diverges, need to try out different values!\n",
    "\n",
    "OOOOOKAYYYYY! I solved it, the problem was that I had to call the .detach() function as soon as I clone the parameters in the cascade. In fact what the autograd was seeing was not the difference btw the cascade and the weights, but instead it was seeing:\n",
    "$$(w\\cdot a - w)^2 \\Longrightarrow \\frac{dL}{dw} = -2w(a-1)^2$$\n",
    "Where a is the initial value (as a percentage) that I create the cascade params with. Which is consistent with what I was seeing."
   ]
  },
  {
   "cell_type": "markdown",
   "id": "7379eea5",
   "metadata": {
    "papermill": {
     "duration": 0.052363,
     "end_time": "2022-11-23T10:50:44.644004",
     "exception": false,
     "start_time": "2022-11-23T10:50:44.591641",
     "status": "completed"
    },
    "tags": []
   },
   "source": [
    "# Defining some required methods"
   ]
  },
  {
   "cell_type": "code",
   "execution_count": 13,
   "id": "bdea5108",
   "metadata": {
    "execution": {
     "iopub.execute_input": "2022-11-23T10:50:44.774376Z",
     "iopub.status.busy": "2022-11-23T10:50:44.773695Z",
     "iopub.status.idle": "2022-11-23T10:50:44.788259Z",
     "shell.execute_reply": "2022-11-23T10:50:44.788741Z",
     "shell.execute_reply.started": "2022-11-17T08:55:43.260255Z"
    },
    "papermill": {
     "duration": 0.086016,
     "end_time": "2022-11-23T10:50:44.788921",
     "exception": false,
     "start_time": "2022-11-23T10:50:44.702905",
     "status": "completed"
    },
    "tags": []
   },
   "outputs": [
    {
     "name": "stdout",
     "output_type": "stream",
     "text": [
      "tensor([1., 1., 0., 0., 0., 0., 0., 0., 0., 0.], dtype=torch.float64)\n",
      "tensor([[0.4256, 0.5744, 0.0000, 0.0000, 0.0000, 0.0000, 0.0000, 0.0000, 0.0000,\n",
      "         0.0000],\n",
      "        [0.6457, 0.3543, 0.0000, 0.0000, 0.0000, 0.0000, 0.0000, 0.0000, 0.0000,\n",
      "         0.0000],\n",
      "        [0.4013, 0.5987, 0.0000, 0.0000, 0.0000, 0.0000, 0.0000, 0.0000, 0.0000,\n",
      "         0.0000]])\n"
     ]
    }
   ],
   "source": [
    "def update_output_mask(labels, ntasks = 10):\n",
    "    mask = np.zeros((ntasks,))\n",
    "    for l in labels:\n",
    "        #print(l)\n",
    "        mask[l] = 1.0\n",
    "    output_mask = torch.from_numpy(mask)\n",
    "    return output_mask\n",
    "\n",
    "class Masked_Softmax(nn.Module):\n",
    "    \"\"\"A masked softmax for multi-output networks.\n",
    "        \n",
    "        Params:\n",
    "            output_mask (torch.Tensor): a tensor representing the mask\n",
    "                that should be applied on the output before using softmax.\n",
    "                The default is a torch.ones() so that no mask is applied and\n",
    "                the module acts as a simple (but less efficient) softmax.\n",
    "        \"\"\"\n",
    "    def __init__(self, n_outs):\n",
    "        \"\"\"\n",
    "        Args: \n",
    "            n_outs (int): The number of units in the output layer.\n",
    "        \"\"\"\n",
    "        super().__init__()\n",
    "        self.output_mask = torch.ones((n_outs,))\n",
    "        self.name = \"masked_softmax\"\n",
    "    \n",
    "    def masked_softmax(self, logits):\n",
    "        # logits are [batch_size, output_dim]\n",
    "        x = torch.where(torch.tile(torch.eq(self.output_mask[None, :], 1.0), [logits.shape[0], 1]), logits, -1e32 * torch.ones_like(logits))\n",
    "        return F.softmax(x, dim = 1)\n",
    "    \n",
    "    def forward(self,x):\n",
    "        return self.masked_softmax(x)\n",
    "# Just some tests\n",
    "output_mask = update_output_mask([np.array([1,0,0,0,0,0,0,0,0,0]),np.array([0,1,0,0,0,0,0,0,0,0])])\n",
    "print(output_mask)\n",
    "M = Masked_Softmax(10)\n",
    "M.output_mask = output_mask\n",
    "logit = torch.stack([torch.tensor([0.5,0.8,1,0.2,0,0,0,0,0,0]),torch.tensor([0.7,0.1,1,0.2,0.1,0,0,0,0,0]),torch.tensor([0.2,0.6,1,0.2,0,0,0,0,0,0])])\n",
    "print(M(logit))"
   ]
  },
  {
   "cell_type": "code",
   "execution_count": 14,
   "id": "8077a033",
   "metadata": {
    "execution": {
     "iopub.execute_input": "2022-11-23T10:50:44.930327Z",
     "iopub.status.busy": "2022-11-23T10:50:44.929304Z",
     "iopub.status.idle": "2022-11-23T10:50:44.931401Z",
     "shell.execute_reply": "2022-11-23T10:50:44.932018Z",
     "shell.execute_reply.started": "2022-11-17T08:55:43.302972Z"
    },
    "papermill": {
     "duration": 0.082054,
     "end_time": "2022-11-23T10:50:44.932191",
     "exception": false,
     "start_time": "2022-11-23T10:50:44.850137",
     "status": "completed"
    },
    "tags": []
   },
   "outputs": [],
   "source": [
    "def accuracy(correct, total):\n",
    "    return float(correct)/total"
   ]
  },
  {
   "cell_type": "markdown",
   "id": "82742c41",
   "metadata": {
    "papermill": {
     "duration": 0.060503,
     "end_time": "2022-11-23T10:50:45.051821",
     "exception": false,
     "start_time": "2022-11-23T10:50:44.991318",
     "status": "completed"
    },
    "tags": []
   },
   "source": [
    "# First tests with a model, checking that the functions above work\n",
    "Also here try to see the difference for training with autograd and without, just to see if they behave the same. Also, check which way is more efficient, because if the manual way is the more efficient one then just go with it and forget about the autograd."
   ]
  },
  {
   "cell_type": "code",
   "execution_count": 15,
   "id": "b4ad1a40",
   "metadata": {
    "execution": {
     "iopub.execute_input": "2022-11-23T10:50:45.175006Z",
     "iopub.status.busy": "2022-11-23T10:50:45.174039Z",
     "iopub.status.idle": "2022-11-23T10:50:45.175962Z",
     "shell.execute_reply": "2022-11-23T10:50:45.176448Z",
     "shell.execute_reply.started": "2022-11-17T08:55:43.308864Z"
    },
    "papermill": {
     "duration": 0.069835,
     "end_time": "2022-11-23T10:50:45.176595",
     "exception": false,
     "start_time": "2022-11-23T10:50:45.106760",
     "status": "completed"
    },
    "tags": []
   },
   "outputs": [],
   "source": [
    "def select_random_weights(model, num_weights):\n",
    "    \"\"\"Select *num_weights* weights of the network and return their indices.\n",
    "    \n",
    "        Args:\n",
    "            model (nn.Module): the model from which the indices are to be selected\n",
    "            num_weights (int): The number of weights to be selected\n",
    "        Returns:\n",
    "            list(list(tuple(int))): [a list of the indices that were selected for params in model.parameters()]\n",
    "    \"\"\"\n",
    "    indices = []\n",
    "    for params in model.parameters():\n",
    "        tmp = [np.expand_dims(random.sample(range(params.shape[k]),num_weights),1) for k in range(len(params.shape))]\n",
    "        indices.append(np.concatenate(tmp,axis = 1))\n",
    "    return indices\n",
    "\n",
    "def take_cascade_snapshot(model, indices):\n",
    "    \"\"\"Takes a snapshot of the various cascade parameters of the given model given a set of indices\n",
    "    \n",
    "        Returns:\n",
    "            list(list(torch.tensor)): the copies from each layer of the model, of the params in each layer in the cascade.\n",
    "                                The tensor has shape (num_weights,num_cascade_layers + 1).\n",
    "    \"\"\"\n",
    "    snap = []\n",
    "    for i, idx, params in zip(range(model.n_param_layers), indices, model.parameters()):\n",
    "        # Due to python indexing I need to separate into different cases, probably there's a better way\n",
    "        if len(idx[0]) == 1:\n",
    "            c_layers = []\n",
    "            for n in range(model.nlayers + 1):\n",
    "                if n == 0:\n",
    "                    tmp = torch.tensor([params[idx[l]].item() for l in range(len(idx))])\n",
    "                elif n != 0:\n",
    "                    tmp = torch.tensor([model.cascade[i][n-1][idx[l]].item() for l in range(len(idx))])\n",
    "                c_layers.append(tmp)\n",
    "            snap.append(torch.stack(c_layers))\n",
    "        elif len(idx[0]) == 2:\n",
    "            c_layers = []\n",
    "            for n in range(model.nlayers + 1):\n",
    "                if n == 0:\n",
    "                    tmp = torch.tensor([params[idx[l,0],idx[l,1]].item() for l in range(len(idx))])\n",
    "                else:\n",
    "                    tmp = torch.tensor([model.cascade[i][n-1][idx[l,0],idx[l,1]].item() for l in range(len(idx))])\n",
    "                c_layers.append(tmp)\n",
    "            snap.append(torch.stack(c_layers))\n",
    "        else:\n",
    "            raise NotImplementedError(\"For now only accepting 1 or 2 dimensional weights\")\n",
    "    return torch.stack(snap).unsqueeze(3)"
   ]
  },
  {
   "cell_type": "markdown",
   "id": "b735c79d",
   "metadata": {
    "papermill": {
     "duration": 0.056019,
     "end_time": "2022-11-23T10:50:45.287867",
     "exception": false,
     "start_time": "2022-11-23T10:50:45.231848",
     "status": "completed"
    },
    "tags": []
   },
   "source": [
    "### Example code for taking snapshots of random weights in the network"
   ]
  },
  {
   "cell_type": "code",
   "execution_count": 16,
   "id": "7b3f9a3b",
   "metadata": {
    "execution": {
     "iopub.execute_input": "2022-11-23T10:50:45.409914Z",
     "iopub.status.busy": "2022-11-23T10:50:45.405972Z",
     "iopub.status.idle": "2022-11-23T10:50:45.624563Z",
     "shell.execute_reply": "2022-11-23T10:50:45.625253Z",
     "shell.execute_reply.started": "2022-11-17T08:55:43.328286Z"
    },
    "papermill": {
     "duration": 0.2802,
     "end_time": "2022-11-23T10:50:45.625474",
     "exception": false,
     "start_time": "2022-11-23T10:50:45.345274",
     "status": "completed"
    },
    "tags": []
   },
   "outputs": [
    {
     "name": "stdout",
     "output_type": "stream",
     "text": [
      "torch.Size([4, 3, 10, 200])\n"
     ]
    }
   ],
   "source": [
    "n_units = 10\n",
    "model = CascadeSequential(\n",
    "                nn.Flatten(),\n",
    "                nn.Linear(20, n_units),\n",
    "                nn.ReLU(),\n",
    "                nn.Linear(n_units, 10),\n",
    "                Masked_Softmax(10)\n",
    "        )\n",
    "init = 'clone'\n",
    "model.init_multiplyer = 1 if init=='clone' else 0.5\n",
    "#print(\"optimal cascade layers:\", nlayers)\n",
    "model.init_params(nlayers = 2, tau = 0, init_method ='xavier')\n",
    "idx = select_random_weights(model,10)\n",
    "\n",
    "snapsy = []\n",
    "for j in range(20):\n",
    "    snaps = []\n",
    "    for k in range(10):\n",
    "        snap = take_cascade_snapshot(model,idx)\n",
    "        snaps.append(snap)\n",
    "    snapsy.append(torch.cat(snaps,dim = 3))\n",
    "snapsy = torch.cat(snapsy,dim = 3)\n",
    "print(snapsy.shape)"
   ]
  },
  {
   "cell_type": "markdown",
   "id": "abd8164b",
   "metadata": {
    "papermill": {
     "duration": 0.055462,
     "end_time": "2022-11-23T10:50:45.737442",
     "exception": false,
     "start_time": "2022-11-23T10:50:45.681980",
     "status": "completed"
    },
    "tags": []
   },
   "source": [
    "# Training routines"
   ]
  },
  {
   "cell_type": "code",
   "execution_count": 17,
   "id": "b01895d6",
   "metadata": {
    "execution": {
     "iopub.execute_input": "2022-11-23T10:50:45.881002Z",
     "iopub.status.busy": "2022-11-23T10:50:45.879951Z",
     "iopub.status.idle": "2022-11-23T10:50:45.882760Z",
     "shell.execute_reply": "2022-11-23T10:50:45.882298Z",
     "shell.execute_reply.started": "2022-11-17T08:55:43.563791Z"
    },
    "papermill": {
     "duration": 0.091307,
     "end_time": "2022-11-23T10:50:45.882909",
     "exception": false,
     "start_time": "2022-11-23T10:50:45.791602",
     "status": "completed"
    },
    "tags": []
   },
   "outputs": [],
   "source": [
    "def c_evolve(model, steps = 1, **kwargs):\n",
    "    # Risky but faster\n",
    "    tmp = model.tau\n",
    "    if \"evolve_layers\" in kwargs.keys():\n",
    "        tau = np.zeros(model.n_param_layers)\n",
    "        tau[kwargs[\"evolve_layers\"]] = model.tau[kwargs[\"evolve_layers\"]]\n",
    "        model.tau = tau\n",
    "    for j in range(steps):\n",
    "        model.cascade_step()\n",
    "    # Reset the tau to its true value\n",
    "    model.tau = tmp\n",
    "    \n",
    "def train(dataloader,model,optimizer, device, master_bar, loss_fn, snap_idx = None, **kwargs):\n",
    "    \"\"\"Run one training epoch for a single task. Also offers the possibility to track some of the weights\n",
    "        and corresponding layers in the cascade. It's also possible to evolve the cascade at the end of each epoch\n",
    "        or after every batch of the dataset.\n",
    "\n",
    "    Args:\n",
    "        dataloader (DataLoader): Torch DataLoader object to load data\n",
    "        optimizer: Torch optimizer object\n",
    "        model (nn.Module): Torch model to train\n",
    "        loss_fn: Torch loss function\n",
    "        device (torch.device): Torch device to use for training\n",
    "        master_bar (fastprogress.master_bar): Will be iterated over for each\n",
    "            epoch to draw batches and display training progress\n",
    "        snap_idx (list): A list of indices of the random weights to be tracked, the ones returned\n",
    "            by the function select_random_weights() are in the correct format.\n",
    "\n",
    "    Returns:\n",
    "        float, list: Mean loss of this epoch, fraction of correct predictions\n",
    "            on training set (accuracy) for all tasks\n",
    "    \"\"\"\n",
    "    epoch_loss = []\n",
    "    epoch_correct, epoch_total = 0, 0\n",
    "    snapshot = []\n",
    "    for x, y in fastprogress.progress_bar(dataloader, parent=master_bar):\n",
    "        master_bar.child.comment = f\"batch\"\n",
    "        optimizer.zero_grad()\n",
    "        model.train()\n",
    "\n",
    "        # Forward pass\n",
    "        y_pred = model(x.to(device))\n",
    "\n",
    "        # For calculating the accuracy, save the number of correctly classified \n",
    "        # images and the total number\n",
    "        epoch_correct += sum(y.to(device) == y_pred.argmax(dim=1))\n",
    "        epoch_total += len(y)\n",
    "\n",
    "        # Compute loss\n",
    "        loss = loss_fn(y_pred, y.to(device))\n",
    "        # For plotting the train loss, save it for each sample\n",
    "        epoch_loss.append(loss.item())\n",
    "        # Backward pass\n",
    "        loss.backward()\n",
    "        optimizer.step()\n",
    "        model.cascade_step()\n",
    "        if snap_idx is not None:\n",
    "            snapshot.append(take_cascade_snapshot(model, snap_idx))\n",
    "        \n",
    "        # Evolve the cascade after each batch of data has been processed \n",
    "        if \"evolve_cascade_pb\" in kwargs.keys():\n",
    "            steps = kwargs[\"evolve_cascade_pb\"]\n",
    "            c_evolve(model, steps, **kwargs)\n",
    "            if snap_idx is not None:\n",
    "                snapshot.append(take_cascade_snapshot(model, snap_idx))\n",
    "    # Evolve the cascade at the end of the epoch\n",
    "    if \"evolve_cascade_pe\" in kwargs.keys():\n",
    "        steps = kwargs[\"evolve_cascade_pe\"]\n",
    "        master_bar.main_bar.comment = f\"Evolving cascade ...\"\n",
    "        for j in range(steps):\n",
    "            # Since we want to look at what happens during this time\n",
    "            c_evolve(model, 1, **kwargs)\n",
    "            if snap_idx is not None:\n",
    "                snapshot.append(take_cascade_snapshot(model, snap_idx))\n",
    "        master_bar.main_bar.comment = f\"\"\n",
    "    snapshot = torch.cat(snapshot,dim=3) if len(snapshot) > 0 else None\n",
    "    # Return the mean loss and the accuracy of this epoch\n",
    "    return np.mean(epoch_loss), compute_metrics(dataloader, model, device, loss_fn, compute_loss = False), snapshot\n",
    "\n",
    "\n",
    "def validate(dataloader, model, device, master_bar, loss_fn):\n",
    "    \"\"\"Run validation on the dataset\n",
    "    \n",
    "    Args:\n",
    "        dataloader (DataLoader): Torch DataLoader object to load data\n",
    "        optimizer: Torch optimizer object\n",
    "        model (nn.Module): Torch model to train\n",
    "        device (torch.device): Torch device to use for training\n",
    "        master_bar (fastprogress.master_bar): Will be iterated over for each\n",
    "            epoch to draw batches and display training progress\n",
    "\n",
    "    Returns:\n",
    "        float, list: Mean loss of this epoch, fraction of correct predictions\n",
    "            on training set (accuracy) for all tasks\n",
    "        \n",
    "    \"\"\"\n",
    "    # Return the mean loss and the accuracy of this epoch\n",
    "    return compute_metrics(dataloader, model, device, loss_fn, master_bar = master_bar, compute_loss = True)\n",
    "\n",
    "\n",
    "def compute_metrics(dataloader, model, device, loss_fn, compute_loss = True, master_bar = None):\n",
    "    \"\"\"Compute the metrics for the current epoch on all tasks, and then resets the\n",
    "        dataset to the task in which it was set before metrics computation (useful for multitask training)\n",
    "    \n",
    "    Args:\n",
    "        dataloader (DataLoader): Torch DataLoader object to load data\n",
    "        model (nn.Module): Torch model to evaluate\n",
    "        device (torch.device): Torch device to use for training\n",
    "        compute_loss (bool, optional): Whether the function should also compute\n",
    "            the loss or not. Defaults to True. \n",
    "        master_bar (fastprogress.master_bar, optional): Will be iterated over for each\n",
    "            epoch to draw batches and display training progress. Defaults to None.\n",
    "    \n",
    "    Returns:\n",
    "        list, list : Loss and accuracies across all tasks in the dataset.\n",
    "                     OR (compute_loss = False)\n",
    "        list : Only accuracies across all tasks in the dataset. \n",
    "    \"\"\"\n",
    "    epoch_acc = []\n",
    "    epoch_loss = []\n",
    "    task = dataloader.dataset.current_task\n",
    "    if master_bar is not None:\n",
    "        bar = fastprogress.progress_bar(range(dataloader.dataset.ntasks), parent = master_bar)\n",
    "    else:\n",
    "        bar = range(dataloader.dataset.ntasks)\n",
    "    model.eval()\n",
    "    with torch.no_grad():\n",
    "        # Start computing metrics from task 0\n",
    "        dataloader.dataset.task(0)\n",
    "        for k in bar:\n",
    "            # Important is to make sure the mask is on the right device\n",
    "            model[-1].output_mask = dataloader.dataset.current_mask.to(device)\n",
    "            correct, total = 0, 0\n",
    "            e_l = []\n",
    "            for x, y in dataloader:\n",
    "                y_pred = model(x.to(device))\n",
    "                \n",
    "                correct += sum(y.to(device) == y_pred.argmax(dim=1))\n",
    "                total += len(y)\n",
    "\n",
    "                if compute_loss:\n",
    "                    loss = loss_fn(y_pred,y.to(device))\n",
    "                    e_l.append(loss.item())\n",
    "            if compute_loss:\n",
    "                epoch_loss.append(np.mean(e_l))\n",
    "            epoch_acc.append(accuracy(correct, total))\n",
    "            # Go to next task and repeat\n",
    "            dataloader.dataset.go_next()\n",
    "        # Returns\n",
    "        if compute_loss:\n",
    "            dataloader.dataset.task(task)\n",
    "            return epoch_loss, epoch_acc\n",
    "        else:\n",
    "            dataloader.dataset.task(task)\n",
    "            return epoch_acc\n",
    "            \n",
    "            \n",
    "def multitask_training(model, optimizer, loss_fn, device, num_epochs, \n",
    "                train_dataloader, val_dataloader, verbose=False, validation = True, track_cascade = False, **kwargs):\n",
    "    \"\"\"Run model training on multiple tasks.\n",
    "\n",
    "    Args:\n",
    "        model (nn.Module): Torch model to train\n",
    "        optimizer: Torch optimizer object\n",
    "        loss_fn : Torch loss function for training, which is added to the cascade loss in case it's present. (to be generalized!!)\n",
    "        device (torch.device): Torch device to use for training\n",
    "        num_epochs (int): Max. number of epochs to train\n",
    "        train_dataloader (DataLoader): Torch DataLoader object to load the\n",
    "            training data\n",
    "        val_dataloader (DataLoader): Torch DataLoader object to load the\n",
    "            validation data\n",
    "        verbose (bool, optional): Print information about model training. \n",
    "            Defaults to False.\n",
    "        \n",
    "\n",
    "    Returns:\n",
    "        list, list, list, list, torch.Tensor shape (10,10): Return list of train\n",
    "            losses, validation losses, train accuracies, validation accuracies\n",
    "            per epoch and the confusion matrix evaluated in the last epoch.\n",
    "    \"\"\"\n",
    "    # Initialize variables\n",
    "    start_time = time.time()\n",
    "    snapshots = []\n",
    "    full_weight_snaps = []\n",
    "    init_lr = model.lr\n",
    "    t = 0\n",
    "    if track_cascade:\n",
    "        snap_indices = select_random_weights(model,10)\n",
    "    # Make sure that we start from task 0 (it shouldn't cause problems anyways because of how I set up the dataset class, but it's better for clarity)\n",
    "    train_dataloader.dataset.task(0)\n",
    "    master_bar = fastprogress.master_bar(range(num_epochs))\n",
    "    train_losses, val_losses, train_accs, val_accs = [],[],[],[]\n",
    "    \n",
    "    # Iterate over the tasks\n",
    "    for k in range(train_dataloader.dataset.ntasks):\n",
    "        # Set the output mask for the softmax layer (in the case of single-head it does not have any effect)\n",
    "        model[-1].output_mask = train_dataloader.dataset.current_mask.to(device)\n",
    "        task_start_time = time.time()\n",
    "        if verbose:\n",
    "            print(f\"Training on task n. {train_dataloader.dataset.current_task}\")\n",
    "        # Iterate over epochs of training\n",
    "        for epoch in master_bar:\n",
    "            # In order to initialize the cascade in a good state copy the values\n",
    "            # of the weights after learning the first task\n",
    "            if \"copy_cascade_after_epoch\" in kwargs.keys():\n",
    "                model.tau = 0\n",
    "                if epoch == kwargs[\"copy_cascade_after_epoch\"][0]:\n",
    "                    model.init_multiplyer = 1.0\n",
    "                    model.tau = kwargs[\"copy_cascade_after_epoch\"][1]\n",
    "                    model.init_cascade('clone')\n",
    "                    print(\"The cascades have been re-initialized\")\n",
    "                    del kwargs[\"copy_cascade_after_epoch\"]\n",
    "                    \n",
    "            # Train the model\n",
    "            epoch_train_loss, epoch_train_acc, snapshot = train(train_dataloader, model, optimizer,\n",
    "                                                                device, master_bar, loss_fn = loss_fn, \n",
    "                                                                snap_idx = snap_indices if track_cascade else None, **kwargs)\n",
    "            \n",
    "            # Implement cosine lr-scheduling to decrease efffect of new data on the network\n",
    "            if kwargs.get(\"lr_decay\", False):\n",
    "                model.lr = 0.5*init_lr*(1 + np.cos(t*np.pi/(num_epochs*train_dataloader.dataset.ntasks)))\n",
    "                if verbose:\n",
    "                    print(f\"lr changed to {model.lr}\")\n",
    "                t += 1\n",
    "                \n",
    "            if validation == True:\n",
    "                # Validate the model\n",
    "                epoch_val_loss, epoch_val_acc = validate(val_dataloader, model,\n",
    "                                                        device, master_bar, loss_fn = loss_fn)\n",
    "                val_losses.append(epoch_val_loss)\n",
    "                val_accs.append(epoch_val_acc)\n",
    "\n",
    "            # Save loss and acc for plotting\n",
    "            train_losses.append(epoch_train_loss)\n",
    "            train_accs.append(epoch_train_acc)\n",
    "            # Save the snapshots of the randomly selected weights and cascade\n",
    "            snapshots.append(snapshot)\n",
    "            \n",
    "            # Plot in real time the validation accuracies\n",
    "            if kwargs.get(\"plot_rt\", False):\n",
    "                master_bar.names = range(trainloader.dataset.ntasks)\n",
    "                t_a = np.array(train_accs)\n",
    "                data = []\n",
    "                for z in range(trainloader.dataset.ntasks):\n",
    "                    data.append([range(len(t_a[:,z])),t_a[:,z]])\n",
    "                master_bar.update_graph(data)\n",
    "                    \n",
    "            # Print accuracies (needs to be formatted correctly, now it sucks)\n",
    "            if verbose:\n",
    "                if validation:\n",
    "                    master_bar.write(f'Train loss: {epoch_train_loss}, val loss: {epoch_val_loss}, train acc: {epoch_train_acc}, val acc {epoch_val_acc}')\n",
    "                else:\n",
    "                    master_bar.write(f'Train loss: {epoch_train_loss:.2f}, train acc: {epoch_train_acc:.3f}')\n",
    "                    \n",
    "        # Save a snapshot of the weights of the network after training a task\n",
    "        full_weight_snaps.append([params.clone().detach().tolist() for params in model.parameters()])\n",
    "        time_elapsed = np.round(time.time() - task_start_time, 0).astype(int)\n",
    "        \n",
    "        if verbose:\n",
    "            print(f'Finished task {trainloader.dataset.current_task} after {time_elapsed} seconds.')\n",
    "        # Put the dataset in the next task\n",
    "        train_dataloader.dataset.go_next()\n",
    "        \n",
    "        # In case we're using the Adam optim, reset it to avoid keeping memory of past tasks!\n",
    "        if kwargs.get(\"adam\", False):\n",
    "            optim = torch.optim.Adam(model.parameters(), lr = model.lr)\n",
    "        \n",
    "    total_time_elapsed = np.round(time.time() - start_time, 0).astype(int)\n",
    "    print(f'Total training time was {total_time_elapsed} s.')\n",
    "    \n",
    "    # Save the data from the weights and cascades into a dictionary\n",
    "    if snapshots[0] is not None:\n",
    "        snapshots = torch.cat(snapshots, dim = 3)\n",
    "    data = {\n",
    "        \"full_weight_snaps\": full_weight_snaps,\n",
    "        \"cascade_evolution\": snapshots\n",
    "    }\n",
    "    \n",
    "    # Returns\n",
    "    if validation:\n",
    "        return train_losses, val_losses, train_accs, val_accs, data\n",
    "    else:\n",
    "        return train_losses, train_accs, data\n"
   ]
  },
  {
   "cell_type": "code",
   "execution_count": 18,
   "id": "a5179fc6",
   "metadata": {
    "execution": {
     "iopub.execute_input": "2022-11-23T10:50:46.004177Z",
     "iopub.status.busy": "2022-11-23T10:50:46.003386Z",
     "iopub.status.idle": "2022-11-23T10:50:46.006553Z",
     "shell.execute_reply": "2022-11-23T10:50:46.006014Z",
     "shell.execute_reply.started": "2022-11-17T08:55:43.607262Z"
    },
    "papermill": {
     "duration": 0.069215,
     "end_time": "2022-11-23T10:50:46.006684",
     "exception": false,
     "start_time": "2022-11-23T10:50:45.937469",
     "status": "completed"
    },
    "tags": []
   },
   "outputs": [],
   "source": [
    "class FakeCascadeSequential(nn.Sequential):\n",
    "    \"\"\"I make this class only for it to be compatible with the training algorithm that we defined above\n",
    "        In practice it's simply a Sequential with some dummy variables.\n",
    "    \"\"\"\n",
    "    def __init__(self, *args, **kwargs):\n",
    "        super().__init__(*args, **kwargs)\n",
    "    \n",
    "    def init_params(self, *args, **kwargs):\n",
    "        pass\n",
    "    \n",
    "    def cascade_step(self):\n",
    "        pass\n",
    "    \n",
    "def find_optimal_layer_n(model):\n",
    "    n_params = sum(p.numel() for p in model.parameters() if p.requires_grad)\n",
    "    for i in range(0, n_params):\n",
    "        if 2**(2*i+1) >= n_params:\n",
    "            return i\n",
    "def plot_params(data, nlayers):\n",
    "    return 0\n",
    "    for l in range(len(data[\"cascade_evolution\"][:,0,0,0])):\n",
    "        fig, ax = plt.subplots(2,5, figsize = (30,8))\n",
    "        #print(data[\"cascade_evolution\"].shape)\n",
    "        for k in range(10):\n",
    "            for j in range(nlayers):\n",
    "                ax[int(k/5)][k if k<5 else k-5].plot(data[\"cascade_evolution\"][l, j,k,:], label = j)\n",
    "            ax[int(k/5)][k if k<5 else k-5].legend()\n",
    "        fig.suptitle(f\"Layer {l}\", fontsize = 15)\n",
    "def plot_accuracy(acc_array):\n",
    "    t_a = np.array(acc_array)\n",
    "    plt.figure(figsize = (7,7))\n",
    "    for k in range(5):\n",
    "        plt.plot(t_a[:, k])\n",
    "    plt.grid(True)\n",
    "    plt.title(\"Accuracy over epochs\", fontsize = 15)\n",
    "    plt.show()"
   ]
  },
  {
   "cell_type": "markdown",
   "id": "4e67c0b6",
   "metadata": {
    "papermill": {
     "duration": 0.051938,
     "end_time": "2022-11-23T10:50:46.115374",
     "exception": false,
     "start_time": "2022-11-23T10:50:46.063436",
     "status": "completed"
    },
    "tags": []
   },
   "source": [
    "- Accuracy & metrics\n",
    "- Training routine\n",
    "- generalize training to case without cascade.\n",
    "- plot function\n",
    "- maybe let's try to avoid using biases to try out different initializations\n"
   ]
  },
  {
   "cell_type": "markdown",
   "id": "5e4f8f04",
   "metadata": {
    "papermill": {
     "duration": 0.053566,
     "end_time": "2022-11-23T10:50:46.224791",
     "exception": false,
     "start_time": "2022-11-23T10:50:46.171225",
     "status": "completed"
    },
    "tags": []
   },
   "source": [
    "# First actual tests with the datasets"
   ]
  },
  {
   "cell_type": "code",
   "execution_count": 19,
   "id": "2319a292",
   "metadata": {
    "execution": {
     "iopub.execute_input": "2022-11-23T10:50:46.339128Z",
     "iopub.status.busy": "2022-11-23T10:50:46.338213Z",
     "iopub.status.idle": "2022-11-23T10:50:46.340114Z",
     "shell.execute_reply": "2022-11-23T10:50:46.340620Z",
     "shell.execute_reply.started": "2022-11-17T08:55:43.624689Z"
    },
    "papermill": {
     "duration": 0.061614,
     "end_time": "2022-11-23T10:50:46.340768",
     "exception": false,
     "start_time": "2022-11-23T10:50:46.279154",
     "status": "completed"
    },
    "tags": []
   },
   "outputs": [],
   "source": [
    "val_acc, val_l, tr_acc, tr_l, datas, weight_snaps = [], [], [], [], [], []\n",
    "myvals = []\n",
    "data_dict = {}"
   ]
  },
  {
   "cell_type": "markdown",
   "id": "52654e61",
   "metadata": {
    "papermill": {
     "duration": 0.052887,
     "end_time": "2022-11-23T10:50:46.447150",
     "exception": false,
     "start_time": "2022-11-23T10:50:46.394263",
     "status": "completed"
    },
    "tags": []
   },
   "source": [
    "# Without cascade - Adam (Zenke et al.)"
   ]
  },
  {
   "cell_type": "code",
   "execution_count": 20,
   "id": "4b37c8e3",
   "metadata": {
    "execution": {
     "iopub.execute_input": "2022-11-23T10:50:46.561233Z",
     "iopub.status.busy": "2022-11-23T10:50:46.560324Z",
     "iopub.status.idle": "2022-11-23T10:50:46.562164Z",
     "shell.execute_reply": "2022-11-23T10:50:46.562648Z",
     "shell.execute_reply.started": "2022-11-17T08:55:43.642820Z"
    },
    "papermill": {
     "duration": 0.060373,
     "end_time": "2022-11-23T10:50:46.562789",
     "exception": false,
     "start_time": "2022-11-23T10:50:46.502416",
     "status": "completed"
    },
    "tags": []
   },
   "outputs": [],
   "source": [
    "# The best accuracy I can get here is with lr = 1e-2 using SGD\n",
    "n_units = 256\n",
    "lr = 1e-3\n",
    "myvals = []\n",
    "data_dict = {}\n",
    "for k in range(4):\n",
    "    # Initialize model and params\n",
    "    model = FakeCascadeSequential(\n",
    "            nn.Flatten(),\n",
    "            nn.Linear(28*28, n_units),\n",
    "            nn.ReLU(),\n",
    "            nn.Linear(n_units, n_units),\n",
    "            nn.ReLU(),\n",
    "            nn.Linear(n_units, 10),\n",
    "            Masked_Softmax(10)\n",
    "    )\n",
    "    model.init_multiplyer = 0.8\n",
    "    nlayers = find_optimal_layer_n(model)\n",
    "    print(\"optimal cascade layers:\", nlayers)\n",
    "    model.lr = lr\n",
    "    #print(device)\n",
    "    model.to(device)\n",
    "    #print(model.cascade[0][1].device)\n",
    "    optim = torch.optim.Adam(model.parameters(), lr = lr)\n",
    "    loss = nn.CrossEntropyLoss()\n",
    "    # Run training\n",
    "    t_l, v_l, t_a, v_a, data = multitask_training(model, optim, loss, device, 10, trainloader, testloader, verbose = False, adam = True)\n",
    "    myvals.append(np.array(v_a)[-1,:])\n",
    "    data_dict[f\"adam_{k}\"] = {\"training\": [t_l,t_a],\"validation\": [v_l,v_a], \"weight_data\": data, \"lr\": lr}\n",
    "plot_accuracy(t_a)"
   ]
  },
  {
   "cell_type": "code",
   "execution_count": 21,
   "id": "525eb82f",
   "metadata": {
    "execution": {
     "iopub.execute_input": "2022-11-23T10:50:46.672104Z",
     "iopub.status.busy": "2022-11-23T10:50:46.671515Z",
     "iopub.status.idle": "2022-11-23T10:50:46.674989Z",
     "shell.execute_reply": "2022-11-23T10:50:46.674506Z",
     "shell.execute_reply.started": "2022-11-17T08:55:43.655963Z"
    },
    "papermill": {
     "duration": 0.059256,
     "end_time": "2022-11-23T10:50:46.675146",
     "exception": false,
     "start_time": "2022-11-23T10:50:46.615890",
     "status": "completed"
    },
    "tags": []
   },
   "outputs": [],
   "source": [
    "import json\n",
    "# # Just an attempt to make sure that saving works, this way I don't have to wait for the \n",
    "# # entire script to run\n",
    "# with open(data_dir+\"prova.json\",\"w+\") as file:\n",
    "#     json.dump(data_dict,file)"
   ]
  },
  {
   "cell_type": "code",
   "execution_count": 22,
   "id": "3d93f555",
   "metadata": {
    "execution": {
     "iopub.execute_input": "2022-11-23T10:50:46.784313Z",
     "iopub.status.busy": "2022-11-23T10:50:46.783676Z",
     "iopub.status.idle": "2022-11-23T10:50:46.787181Z",
     "shell.execute_reply": "2022-11-23T10:50:46.786687Z",
     "shell.execute_reply.started": "2022-11-17T08:55:43.671585Z"
    },
    "papermill": {
     "duration": 0.06015,
     "end_time": "2022-11-23T10:50:46.787314",
     "exception": false,
     "start_time": "2022-11-23T10:50:46.727164",
     "status": "completed"
    },
    "tags": []
   },
   "outputs": [],
   "source": [
    "myvals = np.array(myvals)\n",
    "plt.figure(figsize=(8,5))\n",
    "plt.errorbar(range(0,5), np.mean(myvals, axis = 0), yerr = np.var(myvals,axis=0), marker = '.', markersize = 15)\n",
    "plt.xticks(range(0,5),[\"0 or 1\", \"2 or 3\", \"4 or 5\", \"6 or 7\",\"8 or 9\"], fontsize = 20)\n",
    "plt.yticks(fontsize = 20)\n",
    "plt.title(\"Average accuracy per task\", fontsize = 20)\n",
    "plt.show()"
   ]
  },
  {
   "cell_type": "markdown",
   "id": "5fa9f167",
   "metadata": {
    "papermill": {
     "duration": 0.054023,
     "end_time": "2022-11-23T10:50:46.895749",
     "exception": false,
     "start_time": "2022-11-23T10:50:46.841726",
     "status": "completed"
    },
    "tags": []
   },
   "source": [
    "# Without cascade - SGD"
   ]
  },
  {
   "cell_type": "code",
   "execution_count": 23,
   "id": "ea19f315",
   "metadata": {
    "execution": {
     "iopub.execute_input": "2022-11-23T10:50:47.009660Z",
     "iopub.status.busy": "2022-11-23T10:50:47.009017Z",
     "iopub.status.idle": "2022-11-23T10:50:47.012839Z",
     "shell.execute_reply": "2022-11-23T10:50:47.013309Z",
     "shell.execute_reply.started": "2022-11-17T08:55:43.682271Z"
    },
    "papermill": {
     "duration": 0.064184,
     "end_time": "2022-11-23T10:50:47.013461",
     "exception": false,
     "start_time": "2022-11-23T10:50:46.949277",
     "status": "completed"
    },
    "tags": []
   },
   "outputs": [],
   "source": [
    "# The best accuracy I can get here is with lr = 1e-2 using SGD\n",
    "n_units = 256\n",
    "lr = 1e-2\n",
    "myvals = []\n",
    "for k in range(4):\n",
    "    # Initialize model and params\n",
    "    model = FakeCascadeSequential(\n",
    "            nn.Flatten(),\n",
    "            nn.Linear(28*28, n_units),\n",
    "            nn.ReLU(),\n",
    "            nn.Linear(n_units, n_units),\n",
    "            nn.ReLU(),\n",
    "            nn.Linear(n_units, 10),\n",
    "            Masked_Softmax(10)\n",
    "    )\n",
    "    model.init_multiplyer = 0.8\n",
    "    nlayers = find_optimal_layer_n(model)\n",
    "    print(\"optimal cascade layers:\", nlayers)\n",
    "    model.lr = lr\n",
    "    #print(device)\n",
    "    model.to(device)\n",
    "    #print(model.cascade[0][1].device)\n",
    "    optim = torch.optim.SGD(model.parameters(), lr = lr)\n",
    "    loss = nn.CrossEntropyLoss()\n",
    "    # Run training\n",
    "    t_l, v_l, t_a, v_a, data = multitask_training(model, optim, loss, device, 10, trainloader, testloader, verbose = False, adam = False)\n",
    "    data_dict[f\"SGD_{k}\"] = {\"training\": [t_l,t_a],\"validation\": [v_l,v_a], \"weight_data\": data, \"lr\": lr}\n",
    "    myvals.append(np.array(v_a)[-1,:])\n",
    "plot_accuracy(t_a)"
   ]
  },
  {
   "cell_type": "code",
   "execution_count": 24,
   "id": "5ffd8da3",
   "metadata": {
    "execution": {
     "iopub.execute_input": "2022-11-23T10:50:47.124234Z",
     "iopub.status.busy": "2022-11-23T10:50:47.123508Z",
     "iopub.status.idle": "2022-11-23T10:50:47.126465Z",
     "shell.execute_reply": "2022-11-23T10:50:47.125938Z",
     "shell.execute_reply.started": "2022-11-17T08:55:43.694335Z"
    },
    "papermill": {
     "duration": 0.059821,
     "end_time": "2022-11-23T10:50:47.126579",
     "exception": false,
     "start_time": "2022-11-23T10:50:47.066758",
     "status": "completed"
    },
    "tags": []
   },
   "outputs": [],
   "source": [
    "print(\"Average without the cascade:\", np.mean(np.array(v_a)[-1,:]))"
   ]
  },
  {
   "cell_type": "markdown",
   "id": "dbc6d5a2",
   "metadata": {
    "papermill": {
     "duration": 0.052746,
     "end_time": "2022-11-23T10:50:47.231076",
     "exception": false,
     "start_time": "2022-11-23T10:50:47.178330",
     "status": "completed"
    },
    "tags": []
   },
   "source": [
    "# Cascade without any tweakings, timescale as in Benna & Fusi"
   ]
  },
  {
   "cell_type": "code",
   "execution_count": 25,
   "id": "588a18b8",
   "metadata": {
    "execution": {
     "iopub.execute_input": "2022-11-23T10:50:47.343539Z",
     "iopub.status.busy": "2022-11-23T10:50:47.341741Z",
     "iopub.status.idle": "2022-11-23T10:50:47.344180Z",
     "shell.execute_reply": "2022-11-23T10:50:47.344619Z",
     "shell.execute_reply.started": "2022-11-17T08:55:43.711631Z"
    },
    "papermill": {
     "duration": 0.060566,
     "end_time": "2022-11-23T10:50:47.344760",
     "exception": false,
     "start_time": "2022-11-23T10:50:47.284194",
     "status": "completed"
    },
    "tags": []
   },
   "outputs": [],
   "source": [
    "# Some parameters\n",
    "n_units = 256\n",
    "lr = 0.5\n",
    "init_methods = ['clone']#, 'xavier', 'exp']\n",
    "tau = 0.25\n",
    "epochs = 10\n",
    "# Initialize model and params\n",
    "for k in range(4):\n",
    "    model = CascadeSequential(\n",
    "            nn.Flatten(),\n",
    "            nn.Linear(28*28, n_units),\n",
    "            nn.ReLU(),\n",
    "            nn.Linear(n_units, n_units),\n",
    "            nn.ReLU(),\n",
    "            nn.Linear(n_units, 10),\n",
    "            Masked_Softmax(10)\n",
    "    )\n",
    "    model.init_multiplyer = 1 \n",
    "    nlayers = find_optimal_layer_n(model)\n",
    "    print(\"optimal cascade layers:\", nlayers)\n",
    "    model.init_params(nlayers = nlayers, tau = tau, init_method ='clone')\n",
    "    model.lr = lr\n",
    "    #print(device)\n",
    "    model.to(device)\n",
    "    #print(model.cascade[0][1].device)\n",
    "    optim = torch.optim.SGD(model.parameters(), lr = lr)\n",
    "    loss = nn.CrossEntropyLoss()\n",
    "    # Run training\n",
    "    t_l, v_l, t_a, v_a, data = multitask_training(model, optim, loss, device, epochs, \n",
    "                                                  trainloader, testloader, \n",
    "                                                  verbose = False, track_cascade = True if k==0 else False, \n",
    "                                                  plot_rt = True)\n",
    "                                                  #copy_cascade_after_epoch = (3,0.25),\n",
    "    if type(data[\"cascade_evolution\"]) == torch.Tensor:\n",
    "        data[\"cascade_evolution\"] = data[\"cascade_evolution\"].tolist()\n",
    "    data_dict[f\"naive_cascade_{k}\"] = {\"training\": [t_l,t_a],\"validation\": [v_l,v_a], \"weight_data\": data,\"lr\":lr}\n",
    "    weight_snaps.append(data[\"full_weight_snaps\"])\n",
    "    v_a, t_a, t_l, v_l = np.array(v_a), np.array(t_a), np.array(t_l), np.array(v_l)\n",
    "    datas.append(data)\n",
    "    val_acc.append(v_a)\n",
    "    tr_acc.append(t_a)\n",
    "    val_l.append(v_l)\n",
    "    tr_l.append(t_l)\n",
    "    \n",
    "plot_params(data, nlayers)"
   ]
  },
  {
   "cell_type": "code",
   "execution_count": 26,
   "id": "b840eb6f",
   "metadata": {
    "execution": {
     "iopub.execute_input": "2022-11-23T10:50:47.455925Z",
     "iopub.status.busy": "2022-11-23T10:50:47.454267Z",
     "iopub.status.idle": "2022-11-23T10:50:47.456509Z",
     "shell.execute_reply": "2022-11-23T10:50:47.456949Z",
     "shell.execute_reply.started": "2022-11-17T08:55:43.722146Z"
    },
    "papermill": {
     "duration": 0.058796,
     "end_time": "2022-11-23T10:50:47.457087",
     "exception": false,
     "start_time": "2022-11-23T10:50:47.398291",
     "status": "completed"
    },
    "tags": []
   },
   "outputs": [],
   "source": [
    "# print(\"Average accuracy fast cascade:\", np.mean(v_a[-1,:]))"
   ]
  },
  {
   "cell_type": "markdown",
   "id": "f69c7d0f",
   "metadata": {
    "papermill": {
     "duration": 0.053824,
     "end_time": "2022-11-23T10:50:47.567209",
     "exception": false,
     "start_time": "2022-11-23T10:50:47.513385",
     "status": "completed"
    },
    "tags": []
   },
   "source": [
    "# Cascade with very fast timescale"
   ]
  },
  {
   "cell_type": "code",
   "execution_count": 27,
   "id": "7a57eab3",
   "metadata": {
    "execution": {
     "iopub.execute_input": "2022-11-23T10:50:47.676825Z",
     "iopub.status.busy": "2022-11-23T10:50:47.675975Z",
     "iopub.status.idle": "2022-11-23T10:50:47.677784Z",
     "shell.execute_reply": "2022-11-23T10:50:47.678251Z",
     "shell.execute_reply.started": "2022-11-17T08:55:43.737150Z"
    },
    "papermill": {
     "duration": 0.058257,
     "end_time": "2022-11-23T10:50:47.678385",
     "exception": false,
     "start_time": "2022-11-23T10:50:47.620128",
     "status": "completed"
    },
    "tags": []
   },
   "outputs": [],
   "source": [
    "# Some parameters\n",
    "n_units = 256\n",
    "lr = 0.5\n",
    "init_methods = ['clone']#, 'xavier', 'exp']\n",
    "tau = 3\n",
    "epochs = 10\n",
    "# Initialize model and params\n",
    "model = CascadeSequential(\n",
    "        nn.Flatten(),\n",
    "        nn.Linear(28*28, n_units),\n",
    "        nn.ReLU(),\n",
    "        nn.Linear(n_units, n_units),\n",
    "        nn.ReLU(),\n",
    "        nn.Linear(n_units, 10),\n",
    "        Masked_Softmax(10)\n",
    ")\n",
    "model.init_multiplyer = 1 \n",
    "nlayers = find_optimal_layer_n(model)\n",
    "print(\"optimal cascade layers:\", nlayers)\n",
    "model.init_params(nlayers = nlayers, tau = tau, init_method ='clone')\n",
    "model.lr = lr\n",
    "#print(device)\n",
    "model.to(device)\n",
    "#print(model.cascade[0][1].device)\n",
    "optim = torch.optim.SGD(model.parameters(), lr = lr)\n",
    "loss = nn.CrossEntropyLoss()\n",
    "# Run training\n",
    "t_l, v_l, t_a, v_a, data = multitask_training(model, optim, loss, device, epochs, \n",
    "                                              trainloader, testloader, \n",
    "                                              verbose = False, track_cascade = True, \n",
    "                                              plot_rt = True)\n",
    "                                              #copy_cascade_after_epoch = (3,0.25),                                     \n",
    "weight_snaps.append(data[\"full_weight_snaps\"])\n",
    "v_a, t_a, t_l, v_l = np.array(v_a), np.array(t_a), np.array(t_l), np.array(v_l)\n",
    "datas.append(data)\n",
    "val_acc.append(v_a)\n",
    "tr_acc.append(t_a)\n",
    "val_l.append(v_l)\n",
    "tr_l.append(t_l)\n",
    "plot_params(data, nlayers)"
   ]
  },
  {
   "cell_type": "code",
   "execution_count": 28,
   "id": "0aca74cd",
   "metadata": {
    "execution": {
     "iopub.execute_input": "2022-11-23T10:50:47.785420Z",
     "iopub.status.busy": "2022-11-23T10:50:47.784522Z",
     "iopub.status.idle": "2022-11-23T10:50:47.788551Z",
     "shell.execute_reply": "2022-11-23T10:50:47.788105Z",
     "shell.execute_reply.started": "2022-11-17T08:55:43.751719Z"
    },
    "papermill": {
     "duration": 0.058215,
     "end_time": "2022-11-23T10:50:47.788663",
     "exception": false,
     "start_time": "2022-11-23T10:50:47.730448",
     "status": "completed"
    },
    "tags": []
   },
   "outputs": [],
   "source": [
    "#print(\"Average accuracy faster cascade:\", np.mean(v_a[-1,:]))"
   ]
  },
  {
   "cell_type": "markdown",
   "id": "49934cec",
   "metadata": {
    "papermill": {
     "duration": 0.051457,
     "end_time": "2022-11-23T10:50:47.891053",
     "exception": false,
     "start_time": "2022-11-23T10:50:47.839596",
     "status": "completed"
    },
    "tags": []
   },
   "source": [
    "# Trying to wait at the end of each epoch to allow the cascade to settle a little and \"process\" the information received"
   ]
  },
  {
   "cell_type": "code",
   "execution_count": 29,
   "id": "a1f40a5b",
   "metadata": {
    "execution": {
     "iopub.execute_input": "2022-11-23T10:50:48.004938Z",
     "iopub.status.busy": "2022-11-23T10:50:48.003932Z",
     "iopub.status.idle": "2022-11-23T10:50:48.005786Z",
     "shell.execute_reply": "2022-11-23T10:50:48.006424Z",
     "shell.execute_reply.started": "2022-11-17T08:55:43.764120Z"
    },
    "papermill": {
     "duration": 0.06286,
     "end_time": "2022-11-23T10:50:48.006580",
     "exception": false,
     "start_time": "2022-11-23T10:50:47.943720",
     "status": "completed"
    },
    "tags": []
   },
   "outputs": [],
   "source": [
    "# Some parameters\n",
    "n_units = 256\n",
    "lr = 0.5\n",
    "init_methods = ['clone']#, 'xavier', 'exp']\n",
    "tau = 0.25\n",
    "epochs = 10\n",
    "epoch_steps = 1000\n",
    "# Initialize model and params\n",
    "for k in range(4):\n",
    "    model = CascadeSequential(\n",
    "            nn.Flatten(),\n",
    "            nn.Linear(28*28, n_units),\n",
    "            nn.ReLU(),\n",
    "            nn.Linear(n_units, n_units),\n",
    "            nn.ReLU(),\n",
    "            nn.Linear(n_units, 10),\n",
    "            Masked_Softmax(10)\n",
    "    )\n",
    "    model.init_multiplyer = 1 \n",
    "    #==== Lower the number of cascade layers to allow settling in one state =====\n",
    "    nlayers = 5\n",
    "    # =========\n",
    "    print(\"optimal cascade layers:\", nlayers)\n",
    "    model.init_params(nlayers = nlayers, tau = tau, init_method ='clone')\n",
    "    model.lr = lr\n",
    "    #print(device)\n",
    "    model.to(device)\n",
    "    #print(model.cascade[0][1].device)\n",
    "    optim = torch.optim.SGD(model.parameters(), lr = lr)\n",
    "    loss = nn.CrossEntropyLoss()\n",
    "    # Run training\n",
    "    t_l, v_l, t_a, v_a, data = multitask_training(model, optim, loss, device, epochs, \n",
    "                                                  trainloader, testloader, \n",
    "                                                  verbose = False, track_cascade = True if k==0 else False, \n",
    "                                                  plot_rt = True, evolve_cascade_pe = epoch_steps)\n",
    "                                                  #copy_cascade_after_epoch = (3,0.25),\n",
    "    if type(data[\"cascade_evolution\"]) == torch.Tensor:\n",
    "        data[\"cascade_evolution\"] = data[\"cascade_evolution\"].tolist()\n",
    "    data_dict[f\"epoch_wait_{k}\"] = {\"training\": [t_l,t_a],\"validation\": [v_l,v_a], \"weight_data\": data, \"lr\": lr}\n",
    "    weight_snaps.append(data[\"full_weight_snaps\"])\n",
    "    v_a, t_a, t_l, v_l = np.array(v_a), np.array(t_a), np.array(t_l), np.array(v_l)\n",
    "    datas.append(data)\n",
    "    val_acc.append(v_a)\n",
    "    tr_acc.append(t_a)\n",
    "    val_l.append(v_l)\n",
    "    tr_l.append(t_l)\n",
    "    \n",
    "plot_params(data, nlayers)"
   ]
  },
  {
   "cell_type": "code",
   "execution_count": 30,
   "id": "db0c2fd2",
   "metadata": {
    "execution": {
     "iopub.execute_input": "2022-11-23T10:50:48.124503Z",
     "iopub.status.busy": "2022-11-23T10:50:48.123660Z",
     "iopub.status.idle": "2022-11-23T10:50:48.126505Z",
     "shell.execute_reply": "2022-11-23T10:50:48.126033Z",
     "shell.execute_reply.started": "2022-11-17T08:55:43.777466Z"
    },
    "papermill": {
     "duration": 0.062723,
     "end_time": "2022-11-23T10:50:48.126648",
     "exception": false,
     "start_time": "2022-11-23T10:50:48.063925",
     "status": "completed"
    },
    "tags": []
   },
   "outputs": [],
   "source": [
    "# print(\"Average accuracy epoch waiting:\", np.mean(v_a[-1,:]))"
   ]
  },
  {
   "cell_type": "markdown",
   "id": "633870b3",
   "metadata": {
    "papermill": {
     "duration": 0.053752,
     "end_time": "2022-11-23T10:50:48.235832",
     "exception": false,
     "start_time": "2022-11-23T10:50:48.182080",
     "status": "completed"
    },
    "tags": []
   },
   "source": [
    "# Waiting at each batch step to allow more information processing"
   ]
  },
  {
   "cell_type": "code",
   "execution_count": 31,
   "id": "a017e471",
   "metadata": {
    "execution": {
     "iopub.execute_input": "2022-11-23T10:50:48.349218Z",
     "iopub.status.busy": "2022-11-23T10:50:48.347448Z",
     "iopub.status.idle": "2022-11-23T10:50:48.349870Z",
     "shell.execute_reply": "2022-11-23T10:50:48.350358Z",
     "shell.execute_reply.started": "2022-11-17T08:55:43.791874Z"
    },
    "papermill": {
     "duration": 0.062447,
     "end_time": "2022-11-23T10:50:48.350510",
     "exception": false,
     "start_time": "2022-11-23T10:50:48.288063",
     "status": "completed"
    },
    "tags": []
   },
   "outputs": [],
   "source": [
    "# Some parameters\n",
    "n_units = 256\n",
    "lr = 0.5\n",
    "init_methods = ['clone']#, 'xavier', 'exp']\n",
    "tau = 0.25\n",
    "epochs = 10\n",
    "epoch_steps = 0\n",
    "batch_steps = 200\n",
    "# Initialize model and params\n",
    "for k in range(4):\n",
    "    model = CascadeSequential(\n",
    "            nn.Flatten(),\n",
    "            nn.Linear(28*28, n_units),\n",
    "            nn.ReLU(),\n",
    "            nn.Linear(n_units, n_units),\n",
    "            nn.ReLU(),\n",
    "            nn.Linear(n_units, 10),\n",
    "            Masked_Softmax(10)\n",
    "    )\n",
    "    model.init_multiplyer = 1 \n",
    "    nlayers = 5\n",
    "    print(\"optimal cascade layers:\", nlayers)\n",
    "    model.init_params(nlayers = nlayers, tau = tau, init_method ='clone')\n",
    "    model.lr = lr\n",
    "    #print(device)\n",
    "    model.to(device)\n",
    "    #print(model.cascade[0][1].device)\n",
    "    optim = torch.optim.SGD(model.parameters(), lr = lr)\n",
    "    loss = nn.CrossEntropyLoss()\n",
    "    # Run training\n",
    "    t_l, v_l, t_a, v_a, data = multitask_training(model, optim, loss, device, epochs, \n",
    "                                                  trainloader, testloader, \n",
    "                                                  verbose = False, track_cascade = True if k==0 else False, \n",
    "                                                  plot_rt = True, evolve_cascade_pe = epoch_steps,\n",
    "                                                 evolve_cascade_pb = batch_steps)\n",
    "                                                  #copy_cascade_after_epoch = (3,0.25),\n",
    "    if type(data[\"cascade_evolution\"]) == torch.Tensor:\n",
    "        data[\"cascade_evolution\"] = data[\"cascade_evolution\"].tolist()\n",
    "    data_dict[f\"batch_wait_{k}\"] = {\"training\": [t_l,t_a],\"validation\": [v_l,v_a], \"weight_data\": data, \"lr\": lr}\n",
    "    weight_snaps.append(data[\"full_weight_snaps\"])\n",
    "    v_a, t_a, t_l, v_l = np.array(v_a), np.array(t_a), np.array(t_l), np.array(v_l)\n",
    "    datas.append(data)\n",
    "    val_acc.append(v_a)\n",
    "    tr_acc.append(t_a)\n",
    "    val_l.append(v_l)\n",
    "    tr_l.append(t_l)\n",
    "plot_params(data, nlayers)"
   ]
  },
  {
   "cell_type": "code",
   "execution_count": 32,
   "id": "82cc48a3",
   "metadata": {
    "execution": {
     "iopub.execute_input": "2022-11-23T10:50:48.462656Z",
     "iopub.status.busy": "2022-11-23T10:50:48.460892Z",
     "iopub.status.idle": "2022-11-23T10:50:48.463300Z",
     "shell.execute_reply": "2022-11-23T10:50:48.463774Z",
     "shell.execute_reply.started": "2022-11-17T08:55:43.810232Z"
    },
    "papermill": {
     "duration": 0.059949,
     "end_time": "2022-11-23T10:50:48.463961",
     "exception": false,
     "start_time": "2022-11-23T10:50:48.404012",
     "status": "completed"
    },
    "tags": []
   },
   "outputs": [],
   "source": [
    "# print(\"Average accuracy batch waiting:\", np.mean(v_a[-1,:]))"
   ]
  },
  {
   "cell_type": "code",
   "execution_count": 33,
   "id": "e6aaaafb",
   "metadata": {
    "execution": {
     "iopub.execute_input": "2022-11-23T10:50:48.577438Z",
     "iopub.status.busy": "2022-11-23T10:50:48.576664Z",
     "iopub.status.idle": "2022-11-23T10:50:48.578671Z",
     "shell.execute_reply": "2022-11-23T10:50:48.579181Z",
     "shell.execute_reply.started": "2022-11-17T08:55:43.824581Z"
    },
    "papermill": {
     "duration": 0.060246,
     "end_time": "2022-11-23T10:50:48.579331",
     "exception": false,
     "start_time": "2022-11-23T10:50:48.519085",
     "status": "completed"
    },
    "tags": []
   },
   "outputs": [],
   "source": [
    "# # First saving checkpoint\n",
    "# with open(data_dir+\"results-1.json\",\"w+\") as file:\n",
    "#     json.dump(data_dict,file)"
   ]
  },
  {
   "cell_type": "markdown",
   "id": "d2d13cb0",
   "metadata": {
    "papermill": {
     "duration": 0.052471,
     "end_time": "2022-11-23T10:50:48.684656",
     "exception": false,
     "start_time": "2022-11-23T10:50:48.632185",
     "status": "completed"
    },
    "tags": []
   },
   "source": [
    "# Allowing the cascade to process information only in the first layers"
   ]
  },
  {
   "cell_type": "code",
   "execution_count": 34,
   "id": "44150092",
   "metadata": {
    "execution": {
     "iopub.execute_input": "2022-11-23T10:50:48.797404Z",
     "iopub.status.busy": "2022-11-23T10:50:48.796502Z",
     "iopub.status.idle": "2022-11-23T10:50:48.799172Z",
     "shell.execute_reply": "2022-11-23T10:50:48.798639Z",
     "shell.execute_reply.started": "2022-11-17T08:55:43.838879Z"
    },
    "papermill": {
     "duration": 0.061003,
     "end_time": "2022-11-23T10:50:48.799285",
     "exception": false,
     "start_time": "2022-11-23T10:50:48.738282",
     "status": "completed"
    },
    "tags": []
   },
   "outputs": [],
   "source": [
    "# Some parameters\n",
    "n_units = 256\n",
    "lr = 0.5\n",
    "init_methods = ['clone']#, 'xavier', 'exp']\n",
    "tau = 0.5\n",
    "epochs = 10\n",
    "epoch_steps = 0\n",
    "batch_steps = 200\n",
    "layers_to_evolve = [0,1]\n",
    "# Initialize model and params\n",
    "for k in range(4):\n",
    "    model = CascadeSequential(\n",
    "            nn.Flatten(),\n",
    "            nn.Linear(28*28, n_units),\n",
    "            nn.ReLU(),\n",
    "            nn.Linear(n_units, n_units),\n",
    "            nn.ReLU(),\n",
    "            nn.Linear(n_units, 10),\n",
    "            Masked_Softmax(10)\n",
    "    )\n",
    "    model.init_multiplyer = 1 \n",
    "    nlayers = 5\n",
    "    print(\"optimal cascade layers:\", nlayers)\n",
    "    model.init_params(nlayers = nlayers, tau = tau, init_method ='clone')\n",
    "    model.lr = lr\n",
    "    #print(device)\n",
    "    model.to(device)\n",
    "    #print(model.cascade[0][1].device)\n",
    "    optim = torch.optim.SGD(model.parameters(), lr = lr)\n",
    "    loss = nn.CrossEntropyLoss()\n",
    "    # Run training\n",
    "    t_l, v_l, t_a, v_a, data = multitask_training(model, optim, loss, device, epochs, \n",
    "                                                  trainloader, testloader, \n",
    "                                                  verbose = False, track_cascade = True if k==0 else False, \n",
    "                                                  plot_rt = True, evolve_cascade_pe = epoch_steps,\n",
    "                                                 evolve_cascade_pb = batch_steps, evolve_layers = layers_to_evolve)\n",
    "                                                  #copy_cascade_after_epoch = (3,0.25),\n",
    "    if type(data[\"cascade_evolution\"]) == torch.Tensor:\n",
    "        data[\"cascade_evolution\"] = data[\"cascade_evolution\"].tolist()\n",
    "    data_dict[f\"cascade_first_layer_{k}\"] = {\"training\": [t_l,t_a],\"validation\": [v_l,v_a], \"weight_data\": data, \"lr\": lr}\n",
    "    weight_snaps.append(data[\"full_weight_snaps\"])\n",
    "    v_a, t_a, t_l, v_l = np.array(v_a), np.array(t_a), np.array(t_l), np.array(v_l)\n",
    "    datas.append(data)\n",
    "    val_acc.append(v_a)\n",
    "    tr_acc.append(t_a)\n",
    "    val_l.append(v_l)\n",
    "    tr_l.append(t_l)\n",
    "plot_params(data, nlayers)"
   ]
  },
  {
   "cell_type": "code",
   "execution_count": 35,
   "id": "8787221a",
   "metadata": {
    "execution": {
     "iopub.execute_input": "2022-11-23T10:50:48.910475Z",
     "iopub.status.busy": "2022-11-23T10:50:48.909568Z",
     "iopub.status.idle": "2022-11-23T10:50:48.911637Z",
     "shell.execute_reply": "2022-11-23T10:50:48.912153Z",
     "shell.execute_reply.started": "2022-11-17T08:55:43.850722Z"
    },
    "papermill": {
     "duration": 0.05852,
     "end_time": "2022-11-23T10:50:48.912310",
     "exception": false,
     "start_time": "2022-11-23T10:50:48.853790",
     "status": "completed"
    },
    "tags": []
   },
   "outputs": [],
   "source": [
    "# print(\"Average accuracy evolving first layers:\", np.mean(v_a[-1,:]))\n",
    "# plt.plot(v_a[-1,:])"
   ]
  },
  {
   "cell_type": "markdown",
   "id": "30355525",
   "metadata": {
    "papermill": {
     "duration": 0.055201,
     "end_time": "2022-11-23T10:50:49.023825",
     "exception": false,
     "start_time": "2022-11-23T10:50:48.968624",
     "status": "completed"
    },
    "tags": []
   },
   "source": [
    "# Decreasing LR as time goes on + waiting per-batch"
   ]
  },
  {
   "cell_type": "code",
   "execution_count": 36,
   "id": "78d102e0",
   "metadata": {
    "execution": {
     "iopub.execute_input": "2022-11-23T10:50:49.136913Z",
     "iopub.status.busy": "2022-11-23T10:50:49.135897Z",
     "iopub.status.idle": "2022-11-23T10:50:49.137675Z",
     "shell.execute_reply": "2022-11-23T10:50:49.138264Z",
     "shell.execute_reply.started": "2022-11-17T08:55:43.866662Z"
    },
    "papermill": {
     "duration": 0.061544,
     "end_time": "2022-11-23T10:50:49.138417",
     "exception": false,
     "start_time": "2022-11-23T10:50:49.076873",
     "status": "completed"
    },
    "tags": []
   },
   "outputs": [],
   "source": [
    "# Some parameters\n",
    "n_units = 256\n",
    "lr = 0.5\n",
    "init_methods = ['clone']#, 'xavier', 'exp']\n",
    "tau = 0.25\n",
    "epochs = 10\n",
    "epoch_steps = 0\n",
    "batch_steps = 200\n",
    "# Initialize model and params\n",
    "for k in range(4):\n",
    "    model = CascadeSequential(\n",
    "            nn.Flatten(),\n",
    "            nn.Linear(28*28, n_units),\n",
    "            nn.ReLU(),\n",
    "            nn.Linear(n_units, n_units),\n",
    "            nn.ReLU(),\n",
    "            nn.Linear(n_units, 10),\n",
    "            Masked_Softmax(10)\n",
    "    )\n",
    "    model.init_multiplyer = 1 \n",
    "    nlayers = 5\n",
    "    print(\"optimal cascade layers:\", nlayers)\n",
    "    model.init_params(nlayers = nlayers, tau = tau, init_method ='clone')\n",
    "    model.lr = lr\n",
    "    #print(device)\n",
    "    model.to(device)\n",
    "    #print(model.cascade[0][1].device)\n",
    "    optim = torch.optim.SGD(model.parameters(), lr = lr)\n",
    "    loss = nn.CrossEntropyLoss()\n",
    "    # Run training\n",
    "    t_l, v_l, t_a, v_a, data = multitask_training(model, optim, loss, device, epochs, \n",
    "                                                  trainloader, testloader, \n",
    "                                                  verbose = False, track_cascade = True if k==0 else False, \n",
    "                                                  plot_rt = True, evolve_cascade_pe = epoch_steps,\n",
    "                                                 evolve_cascade_pb = batch_steps, lr_decay = True)\n",
    "                                                  #copy_cascade_after_epoch = (3,0.25),  \n",
    "    if type(data[\"cascade_evolution\"]) == torch.Tensor:\n",
    "        data[\"cascade_evolution\"] = data[\"cascade_evolution\"].tolist()\n",
    "    data_dict[f\"wait_batch_lr_decay_{k}\"] = {\"training\": [t_l,t_a],\"validation\": [v_l,v_a], \"weight_data\": data, \"lr\": lr}\n",
    "    weight_snaps.append(data[\"full_weight_snaps\"])\n",
    "    v_a, t_a, t_l, v_l = np.array(v_a), np.array(t_a), np.array(t_l), np.array(v_l)\n",
    "    datas.append(data)\n",
    "    val_acc.append(v_a)\n",
    "    tr_acc.append(t_a)\n",
    "    val_l.append(v_l)\n",
    "    tr_l.append(t_l)\n",
    "plot_params(data, nlayers)"
   ]
  },
  {
   "cell_type": "code",
   "execution_count": 37,
   "id": "6e4f3beb",
   "metadata": {
    "execution": {
     "iopub.execute_input": "2022-11-23T10:50:49.255535Z",
     "iopub.status.busy": "2022-11-23T10:50:49.254668Z",
     "iopub.status.idle": "2022-11-23T10:50:49.256583Z",
     "shell.execute_reply": "2022-11-23T10:50:49.257024Z",
     "shell.execute_reply.started": "2022-11-17T08:55:43.878563Z"
    },
    "papermill": {
     "duration": 0.062227,
     "end_time": "2022-11-23T10:50:49.257190",
     "exception": false,
     "start_time": "2022-11-23T10:50:49.194963",
     "status": "completed"
    },
    "tags": []
   },
   "outputs": [],
   "source": [
    "# print(\"Average accuracy evolving first layers:\", np.mean(v_a[-1,:]))"
   ]
  },
  {
   "cell_type": "markdown",
   "id": "e74b5d15",
   "metadata": {
    "papermill": {
     "duration": 0.059799,
     "end_time": "2022-11-23T10:50:49.372429",
     "exception": false,
     "start_time": "2022-11-23T10:50:49.312630",
     "status": "completed"
    },
    "tags": []
   },
   "source": [
    "# Tracking weights but no cascade active"
   ]
  },
  {
   "cell_type": "code",
   "execution_count": 38,
   "id": "dd9c5596",
   "metadata": {
    "execution": {
     "iopub.execute_input": "2022-11-23T10:50:49.490670Z",
     "iopub.status.busy": "2022-11-23T10:50:49.489522Z",
     "iopub.status.idle": "2022-11-23T10:50:49.491456Z",
     "shell.execute_reply": "2022-11-23T10:50:49.491870Z",
     "shell.execute_reply.started": "2022-11-17T08:55:43.894628Z"
    },
    "papermill": {
     "duration": 0.063229,
     "end_time": "2022-11-23T10:50:49.492008",
     "exception": false,
     "start_time": "2022-11-23T10:50:49.428779",
     "status": "completed"
    },
    "tags": []
   },
   "outputs": [],
   "source": [
    "# Some parameters\n",
    "n_units = 256\n",
    "lr = 0.01\n",
    "init_methods = ['clone']#, 'xavier', 'exp']\n",
    "tau = 0.0\n",
    "epochs = 10\n",
    "# Initialize model and params\n",
    "model = CascadeSequential(\n",
    "        nn.Flatten(),\n",
    "        nn.Linear(28*28, n_units),\n",
    "        nn.ReLU(),\n",
    "        nn.Linear(n_units, n_units),\n",
    "        nn.ReLU(),\n",
    "        nn.Linear(n_units, 10),\n",
    "        Masked_Softmax(10)\n",
    ")\n",
    "model.init_multiplyer = 1 \n",
    "nlayers = 5\n",
    "print(\"optimal cascade layers:\", nlayers)\n",
    "model.init_params(nlayers = nlayers, tau = tau, init_method ='clone')\n",
    "model.lr = lr\n",
    "#print(device)\n",
    "model.to(device)\n",
    "#print(model.cascade[0][1].device)\n",
    "optim = torch.optim.SGD(model.parameters(), lr = lr)\n",
    "loss = nn.CrossEntropyLoss()\n",
    "# Run training\n",
    "t_l, v_l, t_a, v_a, data = multitask_training(model, optim, loss, device, epochs, \n",
    "                                              trainloader, testloader, \n",
    "                                              verbose = False, track_cascade = True, \n",
    "                                              plot_rt = True)\n",
    "                                              #copy_cascade_after_epoch = (3,0.25), \n",
    "if type(data[\"cascade_evolution\"]) == torch.Tensor:\n",
    "        data[\"cascade_evolution\"] = data[\"cascade_evolution\"].tolist()\n",
    "data_dict[f\"wait_batch_lr_decay_{k}\"] = {\"training\": [t_l,t_a],\"validation\": [v_l,v_a], \"weight_data\": data, \"lr\": lr}\n",
    "weight_snaps.append(data[\"full_weight_snaps\"])\n",
    "v_a, t_a, t_l, v_l = np.array(v_a), np.array(t_a), np.array(t_l), np.array(v_l)\n",
    "datas.append(data)\n",
    "val_acc.append(v_a)\n",
    "tr_acc.append(t_a)\n",
    "val_l.append(v_l)\n",
    "tr_l.append(t_l)\n",
    "plot_params(data, nlayers)"
   ]
  },
  {
   "cell_type": "code",
   "execution_count": 39,
   "id": "86f00c7c",
   "metadata": {
    "execution": {
     "iopub.execute_input": "2022-11-23T10:50:49.605227Z",
     "iopub.status.busy": "2022-11-23T10:50:49.604290Z",
     "iopub.status.idle": "2022-11-23T10:50:49.606643Z",
     "shell.execute_reply": "2022-11-23T10:50:49.607081Z",
     "shell.execute_reply.started": "2022-11-17T08:55:43.909397Z"
    },
    "papermill": {
     "duration": 0.061477,
     "end_time": "2022-11-23T10:50:49.607275",
     "exception": false,
     "start_time": "2022-11-23T10:50:49.545798",
     "status": "completed"
    },
    "tags": []
   },
   "outputs": [],
   "source": [
    "# print(\"Average accuracy no cascade:\", np.mean(val_acc[0][-1,:]))"
   ]
  },
  {
   "cell_type": "markdown",
   "id": "b32d7c4c",
   "metadata": {
    "papermill": {
     "duration": 0.053819,
     "end_time": "2022-11-23T10:50:49.715413",
     "exception": false,
     "start_time": "2022-11-23T10:50:49.661594",
     "status": "completed"
    },
    "tags": []
   },
   "source": [
    "# Implementing the cascade only in the last 2 layers"
   ]
  },
  {
   "cell_type": "code",
   "execution_count": 40,
   "id": "901d1293",
   "metadata": {
    "execution": {
     "iopub.execute_input": "2022-11-23T10:50:49.833036Z",
     "iopub.status.busy": "2022-11-23T10:50:49.824772Z",
     "iopub.status.idle": "2022-11-23T11:54:56.292106Z",
     "shell.execute_reply": "2022-11-23T11:54:56.292729Z",
     "shell.execute_reply.started": "2022-11-17T08:55:43.921578Z"
    },
    "papermill": {
     "duration": 3846.524058,
     "end_time": "2022-11-23T11:54:56.292963",
     "exception": false,
     "start_time": "2022-11-23T10:50:49.768905",
     "status": "completed"
    },
    "tags": []
   },
   "outputs": [
    {
     "data": {
      "text/html": [],
      "text/plain": [
       "<IPython.core.display.HTML object>"
      ]
     },
     "metadata": {},
     "output_type": "display_data"
    },
    {
     "data": {
      "image/png": "[encoded data removed]",
      "text/plain": [
       "<Figure size 432x288 with 1 Axes>"
      ]
     },
     "metadata": {},
     "output_type": "display_data"
    },
    {
     "data": {
      "text/html": [],
      "text/plain": [
       "<IPython.core.display.HTML object>"
      ]
     },
     "metadata": {},
     "output_type": "display_data"
    },
    {
     "data": {
      "text/html": [],
      "text/plain": [
       "<IPython.core.display.HTML object>"
      ]
     },
     "metadata": {},
     "output_type": "display_data"
    },
    {
     "data": {
      "text/html": [],
      "text/plain": [
       "<IPython.core.display.HTML object>"
      ]
     },
     "metadata": {},
     "output_type": "display_data"
    },
    {
     "data": {
      "text/html": [],
      "text/plain": [
       "<IPython.core.display.HTML object>"
      ]
     },
     "metadata": {},
     "output_type": "display_data"
    },
    {
     "name": "stdout",
     "output_type": "stream",
     "text": [
      "Total training time was 1061 s.\n"
     ]
    },
    {
     "data": {
      "text/html": [],
      "text/plain": [
       "<IPython.core.display.HTML object>"
      ]
     },
     "metadata": {},
     "output_type": "display_data"
    },
    {
     "data": {
      "image/png": "[encoded data removed]",
      "text/plain": [
       "<Figure size 432x288 with 1 Axes>"
      ]
     },
     "metadata": {},
     "output_type": "display_data"
    },
    {
     "data": {
      "text/html": [],
      "text/plain": [
       "<IPython.core.display.HTML object>"
      ]
     },
     "metadata": {},
     "output_type": "display_data"
    },
    {
     "data": {
      "text/html": [],
      "text/plain": [
       "<IPython.core.display.HTML object>"
      ]
     },
     "metadata": {},
     "output_type": "display_data"
    },
    {
     "data": {
      "text/html": [],
      "text/plain": [
       "<IPython.core.display.HTML object>"
      ]
     },
     "metadata": {},
     "output_type": "display_data"
    },
    {
     "data": {
      "text/html": [],
      "text/plain": [
       "<IPython.core.display.HTML object>"
      ]
     },
     "metadata": {},
     "output_type": "display_data"
    },
    {
     "name": "stdout",
     "output_type": "stream",
     "text": [
      "Total training time was 931 s.\n"
     ]
    },
    {
     "data": {
      "text/html": [],
      "text/plain": [
       "<IPython.core.display.HTML object>"
      ]
     },
     "metadata": {},
     "output_type": "display_data"
    },
    {
     "data": {
      "image/png": "[encoded data removed]",
      "text/plain": [
       "<Figure size 432x288 with 1 Axes>"
      ]
     },
     "metadata": {},
     "output_type": "display_data"
    },
    {
     "data": {
      "text/html": [],
      "text/plain": [
       "<IPython.core.display.HTML object>"
      ]
     },
     "metadata": {},
     "output_type": "display_data"
    },
    {
     "data": {
      "text/html": [],
      "text/plain": [
       "<IPython.core.display.HTML object>"
      ]
     },
     "metadata": {},
     "output_type": "display_data"
    },
    {
     "data": {
      "text/html": [],
      "text/plain": [
       "<IPython.core.display.HTML object>"
      ]
     },
     "metadata": {},
     "output_type": "display_data"
    },
    {
     "data": {
      "text/html": [],
      "text/plain": [
       "<IPython.core.display.HTML object>"
      ]
     },
     "metadata": {},
     "output_type": "display_data"
    },
    {
     "name": "stdout",
     "output_type": "stream",
     "text": [
      "Total training time was 926 s.\n"
     ]
    },
    {
     "data": {
      "text/html": [],
      "text/plain": [
       "<IPython.core.display.HTML object>"
      ]
     },
     "metadata": {},
     "output_type": "display_data"
    },
    {
     "data": {
      "image/png": "[encoded data removed]",
      "text/plain": [
       "<Figure size 432x288 with 1 Axes>"
      ]
     },
     "metadata": {},
     "output_type": "display_data"
    },
    {
     "data": {
      "text/html": [],
      "text/plain": [
       "<IPython.core.display.HTML object>"
      ]
     },
     "metadata": {},
     "output_type": "display_data"
    },
    {
     "data": {
      "text/html": [],
      "text/plain": [
       "<IPython.core.display.HTML object>"
      ]
     },
     "metadata": {},
     "output_type": "display_data"
    },
    {
     "data": {
      "text/html": [],
      "text/plain": [
       "<IPython.core.display.HTML object>"
      ]
     },
     "metadata": {},
     "output_type": "display_data"
    },
    {
     "data": {
      "text/html": [],
      "text/plain": [
       "<IPython.core.display.HTML object>"
      ]
     },
     "metadata": {},
     "output_type": "display_data"
    },
    {
     "name": "stdout",
     "output_type": "stream",
     "text": [
      "Total training time was 924 s.\n"
     ]
    },
    {
     "data": {
      "text/plain": [
       "0"
      ]
     },
     "execution_count": 40,
     "metadata": {},
     "output_type": "execute_result"
    }
   ],
   "source": [
    "# Some parameters\n",
    "n_units = 256\n",
    "lr = 0.5\n",
    "init_methods = ['clone']#, 'xavier', 'exp']\n",
    "tau = 0.5\n",
    "epochs = 10\n",
    "epoch_steps = 0\n",
    "batch_steps = 50\n",
    "layers = [4,5]\n",
    "# Initialize model and params\n",
    "for k in range(4):\n",
    "    model = CascadeSequential(\n",
    "            nn.Flatten(),\n",
    "            nn.Linear(28*28, n_units),\n",
    "            nn.ReLU(),\n",
    "            nn.Linear(n_units, n_units),\n",
    "            nn.ReLU(),\n",
    "            nn.Linear(n_units, 10),\n",
    "            Masked_Softmax(10)\n",
    "    )\n",
    "    model.init_multiplyer = 1 \n",
    "    nlayers = 6\n",
    "    model.init_params(nlayers = nlayers, tau = tau, init_method ='clone', layers = layers)\n",
    "    model.lr = lr\n",
    "    #print(device)\n",
    "    model.to(device)\n",
    "    #print(model.cascade[0][1].device)\n",
    "    optim = torch.optim.SGD(model.parameters(), lr = lr)\n",
    "    loss = nn.CrossEntropyLoss()\n",
    "    # Run training\n",
    "    t_l, v_l, t_a, v_a, data = multitask_training(model, optim, loss, device, epochs, \n",
    "                                                  trainloader, testloader, \n",
    "                                                  verbose = False, track_cascade = True if k==0 else False, \n",
    "                                                  plot_rt = True,\n",
    "                                                 evolve_cascade_pb = batch_steps)\n",
    "                                                  #copy_cascade_after_epoch = (3,0.25),   \n",
    "    if type(data[\"cascade_evolution\"]) == torch.Tensor:\n",
    "        data[\"cascade_evolution\"] = data[\"cascade_evolution\"].tolist()\n",
    "    data_dict[f\"inner_layers_only_{k}\"] = {\"training\": [t_l,t_a],\"validation\": [v_l,v_a], \"weight_data\": data, \"lr\": lr}\n",
    "    weight_snaps.append(data[\"full_weight_snaps\"])\n",
    "    v_a, t_a, t_l, v_l = np.array(v_a), np.array(t_a), np.array(t_l), np.array(v_l)\n",
    "    datas.append(data)\n",
    "    val_acc.append(v_a)\n",
    "    tr_acc.append(t_a)\n",
    "    val_l.append(v_l)\n",
    "    tr_l.append(t_l)\n",
    "plot_params(data, nlayers)"
   ]
  },
  {
   "cell_type": "code",
   "execution_count": 41,
   "id": "fb3b51b1",
   "metadata": {
    "execution": {
     "iopub.execute_input": "2022-11-23T11:54:56.429173Z",
     "iopub.status.busy": "2022-11-23T11:54:56.428323Z",
     "iopub.status.idle": "2022-11-23T11:54:56.430973Z",
     "shell.execute_reply": "2022-11-23T11:54:56.430380Z",
     "shell.execute_reply.started": "2022-11-17T08:55:43.933696Z"
    },
    "papermill": {
     "duration": 0.071154,
     "end_time": "2022-11-23T11:54:56.431114",
     "exception": false,
     "start_time": "2022-11-23T11:54:56.359960",
     "status": "completed"
    },
    "tags": []
   },
   "outputs": [],
   "source": [
    "# print(\"Average accuracy no cascade:\", np.mean(val_acc[0][-1,:]))\n",
    "# print(v_a[-1,:])"
   ]
  },
  {
   "cell_type": "code",
   "execution_count": 42,
   "id": "a12e60b4",
   "metadata": {
    "execution": {
     "iopub.execute_input": "2022-11-23T11:54:56.571628Z",
     "iopub.status.busy": "2022-11-23T11:54:56.570724Z",
     "iopub.status.idle": "2022-11-23T11:55:19.607383Z",
     "shell.execute_reply": "2022-11-23T11:55:19.606472Z",
     "shell.execute_reply.started": "2022-11-17T08:55:43.948939Z"
    },
    "papermill": {
     "duration": 23.110069,
     "end_time": "2022-11-23T11:55:19.607536",
     "exception": false,
     "start_time": "2022-11-23T11:54:56.497467",
     "status": "completed"
    },
    "tags": []
   },
   "outputs": [],
   "source": [
    "# Second saving checkpoint\n",
    "with open(data_dir+\"only-last.json\",\"w+\") as file:\n",
    "    json.dump(data_dict,file)"
   ]
  },
  {
   "cell_type": "markdown",
   "id": "4478708b",
   "metadata": {
    "papermill": {
     "duration": 0.063371,
     "end_time": "2022-11-23T11:55:19.735577",
     "exception": false,
     "start_time": "2022-11-23T11:55:19.672206",
     "status": "completed"
    },
    "tags": []
   },
   "source": [
    "# Shuffled MNIST"
   ]
  },
  {
   "cell_type": "code",
   "execution_count": 43,
   "id": "4c4e8b91",
   "metadata": {
    "execution": {
     "iopub.execute_input": "2022-11-23T11:55:19.864933Z",
     "iopub.status.busy": "2022-11-23T11:55:19.864077Z",
     "iopub.status.idle": "2022-11-23T11:55:19.866252Z",
     "shell.execute_reply": "2022-11-23T11:55:19.866642Z",
     "shell.execute_reply.started": "2022-11-17T08:55:43.962084Z"
    },
    "papermill": {
     "duration": 0.068674,
     "end_time": "2022-11-23T11:55:19.866782",
     "exception": false,
     "start_time": "2022-11-23T11:55:19.798108",
     "status": "completed"
    },
    "tags": []
   },
   "outputs": [],
   "source": [
    "ntasks = 10\n",
    "traindata, testdata = grab_data(data_dir, \"shuffledMNIST\", ntasks = ntasks)\n",
    "# So, in the simulations it seems that 128 is better than 64 for splitMNIST, 64 is slower and doesn't perform significantly better\n",
    "batch_size = 256\n",
    "trainloader = torch.utils.data.DataLoader(traindata, batch_size = batch_size, shuffle = True)\n",
    "testloader = torch.utils.data.DataLoader(testdata, batch_size = batch_size, shuffle = True)"
   ]
  },
  {
   "cell_type": "markdown",
   "id": "415429cc",
   "metadata": {
    "papermill": {
     "duration": 0.062925,
     "end_time": "2022-11-23T11:55:19.992473",
     "exception": false,
     "start_time": "2022-11-23T11:55:19.929548",
     "status": "completed"
    },
    "tags": []
   },
   "source": [
    "# No cascade Shuffled MNIST"
   ]
  },
  {
   "cell_type": "code",
   "execution_count": 44,
   "id": "0a252dd7",
   "metadata": {
    "execution": {
     "iopub.execute_input": "2022-11-23T11:55:20.127748Z",
     "iopub.status.busy": "2022-11-23T11:55:20.127059Z",
     "iopub.status.idle": "2022-11-23T11:55:20.129778Z",
     "shell.execute_reply": "2022-11-23T11:55:20.130193Z"
    },
    "papermill": {
     "duration": 0.072324,
     "end_time": "2022-11-23T11:55:20.130336",
     "exception": false,
     "start_time": "2022-11-23T11:55:20.058012",
     "status": "completed"
    },
    "tags": []
   },
   "outputs": [],
   "source": [
    "# The best accuracy I can get here is with lr = 1e-2 using SGD\n",
    "n_units = 2000\n",
    "lr = 5e-2\n",
    "myvals = []\n",
    "for k in range(4):\n",
    "    # Initialize model and params\n",
    "    model = FakeCascadeSequential(\n",
    "            nn.Flatten(),\n",
    "            nn.Linear(28*28, n_units),\n",
    "            nn.ReLU(),\n",
    "            nn.Linear(n_units, n_units),\n",
    "            nn.ReLU(),\n",
    "            nn.Linear(n_units, 10),\n",
    "            Masked_Softmax(10)\n",
    "    )\n",
    "    model.lr = lr\n",
    "    #print(device)\n",
    "    model.to(device)\n",
    "    #print(model.cascade[0][1].device)\n",
    "    optim = torch.optim.SGD(model.parameters(), lr = lr)\n",
    "    loss = nn.CrossEntropyLoss()\n",
    "    # Run training\n",
    "    t_l, v_l, t_a, v_a, data = multitask_training(model, optim, loss, device, 10, trainloader, testloader, verbose = False, adam = False)\n",
    "    if type(data[\"cascade_evolution\"]) == torch.Tensor:\n",
    "        data[\"cascade_evolution\"] = data[\"cascade_evolution\"].tolist()\n",
    "    data_dict[f\"shuffled_no_cascade_{k}\"] = {\"training\": [t_l,t_a],\"validation\": [v_l,v_a], \"weight_data\": data, \"lr\": lr}\n",
    "    myvals.append(np.array(v_a)[-1,:])\n",
    "plot_accuracy(t_a)"
   ]
  },
  {
   "cell_type": "code",
   "execution_count": 45,
   "id": "7800c6fc",
   "metadata": {
    "execution": {
     "iopub.execute_input": "2022-11-23T11:55:20.269210Z",
     "iopub.status.busy": "2022-11-23T11:55:20.268236Z",
     "iopub.status.idle": "2022-11-23T11:55:20.270126Z",
     "shell.execute_reply": "2022-11-23T11:55:20.270593Z",
     "shell.execute_reply.started": "2022-11-17T08:59:02.360270Z"
    },
    "papermill": {
     "duration": 0.073596,
     "end_time": "2022-11-23T11:55:20.270749",
     "exception": false,
     "start_time": "2022-11-23T11:55:20.197153",
     "status": "completed"
    },
    "tags": []
   },
   "outputs": [],
   "source": [
    "# acc_no = np.array(v_a)[-1,:]\n",
    "# plt.plot(np.array(v_a)[-1,:], marker = '.', markersize = 15)\n",
    "# plt.grid(True)"
   ]
  },
  {
   "cell_type": "markdown",
   "id": "9e8205e7",
   "metadata": {
    "papermill": {
     "duration": 0.064193,
     "end_time": "2022-11-23T11:55:20.401123",
     "exception": false,
     "start_time": "2022-11-23T11:55:20.336930",
     "status": "completed"
    },
    "tags": []
   },
   "source": [
    "# Shuffled MNIST with best model"
   ]
  },
  {
   "cell_type": "code",
   "execution_count": 46,
   "id": "d6d5934e",
   "metadata": {
    "execution": {
     "iopub.execute_input": "2022-11-23T11:55:20.539652Z",
     "iopub.status.busy": "2022-11-23T11:55:20.538703Z",
     "iopub.status.idle": "2022-11-23T11:55:20.540709Z",
     "shell.execute_reply": "2022-11-23T11:55:20.541187Z",
     "shell.execute_reply.started": "2022-11-17T08:59:02.362176Z"
    },
    "papermill": {
     "duration": 0.073626,
     "end_time": "2022-11-23T11:55:20.541340",
     "exception": false,
     "start_time": "2022-11-23T11:55:20.467714",
     "status": "completed"
    },
    "tags": []
   },
   "outputs": [],
   "source": [
    "# Some parameters\n",
    "n_units = 2000\n",
    "lr = 0.5\n",
    "init_methods = ['clone']#, 'xavier', 'exp']\n",
    "tau = 0.25\n",
    "epochs = 10\n",
    "epoch_steps = 0\n",
    "batch_steps = 200\n",
    "layers = [2,3,4,5]\n",
    "# Initialize model and params\n",
    "for k in range(4):\n",
    "    model = CascadeSequential(\n",
    "            nn.Flatten(),\n",
    "            nn.Linear(28*28, n_units),\n",
    "            nn.ReLU(),\n",
    "            nn.Linear(n_units, n_units),\n",
    "            nn.ReLU(),\n",
    "            nn.Linear(n_units, 10),\n",
    "            Masked_Softmax(10)\n",
    "    )\n",
    "    model.init_multiplyer = 1 \n",
    "    nlayers = 7\n",
    "    model.init_params(nlayers = nlayers, tau = tau, init_method ='clone', layers = layers)\n",
    "    model.lr = lr\n",
    "    #print(device)\n",
    "    model.to(device)\n",
    "    #print(model.cascade[0][1].device)\n",
    "    optim = torch.optim.SGD(model.parameters(), lr = lr)\n",
    "    loss = nn.CrossEntropyLoss()\n",
    "    # Run training\n",
    "    t_l, v_l, t_a, v_a, data = multitask_training(model, optim, loss, device, epochs, \n",
    "                                                  trainloader, testloader, \n",
    "                                                  verbose = False, track_cascade = False, \n",
    "                                                  plot_rt = True, evolve_cascade_pe = epoch_steps,\n",
    "                                                 evolve_cascade_pb = batch_steps)\n",
    "                                                  #copy_cascade_after_epoch = (3,0.25),  \n",
    "    if type(data[\"cascade_evolution\"]) == torch.Tensor:\n",
    "        data[\"cascade_evolution\"] = data[\"cascade_evolution\"].tolist()\n",
    "    data_dict[f\"shuffled_best_{k}\"] = {\"training\": [t_l,t_a],\"validation\": [v_l,v_a], \"weight_data\": data, \"lr\": lr}\n",
    "    weight_snaps.append(data[\"full_weight_snaps\"])\n",
    "    \n",
    "v_a, t_a, t_l, v_l = np.array(v_a), np.array(t_a), np.array(t_l), np.array(v_l)\n",
    "datas.append(data)\n",
    "val_acc.append(v_a)\n",
    "tr_acc.append(t_a)\n",
    "val_l.append(v_l)\n",
    "tr_l.append(t_l)\n",
    "plot_params(data, nlayers)"
   ]
  },
  {
   "cell_type": "code",
   "execution_count": 47,
   "id": "89e29ea9",
   "metadata": {
    "execution": {
     "iopub.execute_input": "2022-11-23T11:55:20.676228Z",
     "iopub.status.busy": "2022-11-23T11:55:20.675414Z",
     "iopub.status.idle": "2022-11-23T11:55:20.677417Z",
     "shell.execute_reply": "2022-11-23T11:55:20.677911Z"
    },
    "papermill": {
     "duration": 0.070085,
     "end_time": "2022-11-23T11:55:20.678064",
     "exception": false,
     "start_time": "2022-11-23T11:55:20.607979",
     "status": "completed"
    },
    "tags": []
   },
   "outputs": [],
   "source": [
    "# # Second saving checkpoint\n",
    "# with open(data_dir+\"results-shuffled.json\",\"w+\") as file:\n",
    "#     json.dump(data_dict,file)"
   ]
  },
  {
   "cell_type": "code",
   "execution_count": 48,
   "id": "fd2097f2",
   "metadata": {
    "execution": {
     "iopub.execute_input": "2022-11-23T11:55:20.811317Z",
     "iopub.status.busy": "2022-11-23T11:55:20.810507Z",
     "iopub.status.idle": "2022-11-23T11:55:20.812925Z",
     "shell.execute_reply": "2022-11-23T11:55:20.812509Z",
     "shell.execute_reply.started": "2022-11-17T08:59:02.364002Z"
    },
    "papermill": {
     "duration": 0.071738,
     "end_time": "2022-11-23T11:55:20.813045",
     "exception": false,
     "start_time": "2022-11-23T11:55:20.741307",
     "status": "completed"
    },
    "tags": []
   },
   "outputs": [],
   "source": [
    "# plot_accuracy(t_a)"
   ]
  },
  {
   "cell_type": "code",
   "execution_count": 49,
   "id": "a831dd5a",
   "metadata": {
    "execution": {
     "iopub.execute_input": "2022-11-23T11:55:21.038286Z",
     "iopub.status.busy": "2022-11-23T11:55:21.036782Z",
     "iopub.status.idle": "2022-11-23T11:55:21.039054Z",
     "shell.execute_reply": "2022-11-23T11:55:21.037519Z",
     "shell.execute_reply.started": "2022-11-17T08:59:02.365897Z"
    },
    "papermill": {
     "duration": 0.128589,
     "end_time": "2022-11-23T11:55:21.039233",
     "exception": false,
     "start_time": "2022-11-23T11:55:20.910644",
     "status": "completed"
    },
    "tags": []
   },
   "outputs": [],
   "source": [
    "# acc_yes = np.array(v_a)[-1,:]\n",
    "# plt.plot(v_a[-1,:], marker = '.', markersize = 15)\n",
    "# plt.grid(True)"
   ]
  },
  {
   "cell_type": "code",
   "execution_count": 50,
   "id": "e85e0bb9",
   "metadata": {
    "execution": {
     "iopub.execute_input": "2022-11-23T11:55:21.242888Z",
     "iopub.status.busy": "2022-11-23T11:55:21.241917Z",
     "iopub.status.idle": "2022-11-23T11:55:21.244235Z",
     "shell.execute_reply": "2022-11-23T11:55:21.243639Z",
     "shell.execute_reply.started": "2022-11-17T08:59:02.367567Z"
    },
    "papermill": {
     "duration": 0.108364,
     "end_time": "2022-11-23T11:55:21.244403",
     "exception": false,
     "start_time": "2022-11-23T11:55:21.136039",
     "status": "completed"
    },
    "tags": []
   },
   "outputs": [],
   "source": [
    "# plt.plot(acc_no, marker = '.', markersize = 15)\n",
    "# plt.plot(acc_yes, marker = '.', markersize = 15)\n",
    "# plt.grid(True)"
   ]
  },
  {
   "cell_type": "markdown",
   "id": "c2b6dc2b",
   "metadata": {
    "papermill": {
     "duration": 0.103952,
     "end_time": "2022-11-23T11:55:21.457319",
     "exception": false,
     "start_time": "2022-11-23T11:55:21.353367",
     "status": "completed"
    },
    "tags": []
   },
   "source": [
    "# Convolutional network?"
   ]
  },
  {
   "cell_type": "markdown",
   "id": "7d4f5eb6",
   "metadata": {
    "papermill": {
     "duration": 0.094328,
     "end_time": "2022-11-23T11:55:21.649304",
     "exception": false,
     "start_time": "2022-11-23T11:55:21.554976",
     "status": "completed"
    },
    "tags": []
   },
   "source": [
    "My hypothesis is that by using very high resting times the following two things will happen:\n",
    "- Small fluctuations get absorbed by the cascade and do not really influence the weights of the previous tasks, which have stabilized into a more or less rest configuration\n",
    "- Large fluctuations have the time to be incorporated into the cascade, and the weights can settle into new states and become more stabilised. The problem with this is that the cascades are not REALLY settling and will slowly decay back to their original configuration (and then towards zero). \n",
    "\n",
    "Maybe I should come up with an update for the cascades which resets their values in some way?"
   ]
  },
  {
   "cell_type": "markdown",
   "id": "05db6c91",
   "metadata": {
    "papermill": {
     "duration": 0.094212,
     "end_time": "2022-11-23T11:55:21.838737",
     "exception": false,
     "start_time": "2022-11-23T11:55:21.744525",
     "status": "completed"
    },
    "tags": []
   },
   "source": [
    "## Note on Adam\n",
    "Adam is a bad choice for continual learning, due to the long memory that the gradients contain. SGD is much better, both in the case of naive bayes and in the case of the cascade.\n"
   ]
  },
  {
   "cell_type": "code",
   "execution_count": null,
   "id": "9f539983",
   "metadata": {
    "papermill": {
     "duration": 0.092125,
     "end_time": "2022-11-23T11:55:22.027316",
     "exception": false,
     "start_time": "2022-11-23T11:55:21.935191",
     "status": "completed"
    },
    "tags": []
   },
   "outputs": [],
   "source": []
  }
 ],
 "metadata": {
  "kernelspec": {
   "display_name": "Python 3",
   "language": "python",
   "name": "python3"
  },
  "language_info": {
   "codemirror_mode": {
    "name": "ipython",
    "version": 3
   },
   "file_extension": ".py",
   "mimetype": "text/x-python",
   "name": "python",
   "nbconvert_exporter": "python",
   "pygments_lexer": "ipython3",
   "version": "3.7.12"
  },
  "papermill": {
   "default_parameters": {},
   "duration": 3926.249712,
   "end_time": "2022-11-23T11:55:24.605895",
   "environment_variables": {},
   "exception": null,
   "input_path": "__notebook__.ipynb",
   "output_path": "__notebook__.ipynb",
   "parameters": {},
   "start_time": "2022-11-23T10:49:58.356183",
   "version": "2.3.3"
  },
  "widgets": {
   "application/vnd.jupyter.widget-state+json": {
    "state": {
     "0063711b62784dc0ab30896f1e201bbf": {
      "model_module": "@jupyter-widgets/base",
      "model_module_version": "1.2.0",
      "model_name": "LayoutModel",
      "state": {
       "_model_module": "@jupyter-widgets/base",
       "_model_module_version": "1.2.0",
       "_model_name": "LayoutModel",
       "_view_count": null,
       "_view_module": "@jupyter-widgets/base",
       "_view_module_version": "1.2.0",
       "_view_name": "LayoutView",
       "align_content": null,
       "align_items": null,
       "align_self": null,
       "border": null,
       "bottom": null,
       "display": null,
       "flex": null,
       "flex_flow": null,
       "grid_area": null,
       "grid_auto_columns": null,
       "grid_auto_flow": null,
       "grid_auto_rows": null,
       "grid_column": null,
       "grid_gap": null,
       "grid_row": null,
       "grid_template_areas": null,
       "grid_template_columns": null,
       "grid_template_rows": null,
       "height": null,
       "justify_content": null,
       "justify_items": null,
       "left": null,
       "margin": null,
       "max_height": null,
       "max_width": null,
       "min_height": null,
       "min_width": null,
       "object_fit": null,
       "object_position": null,
       "order": null,
       "overflow": null,
       "overflow_x": null,
       "overflow_y": null,
       "padding": null,
       "right": null,
       "top": null,
       "visibility": null,
       "width": null
      }
     },
     "06529c97955d4feab0310436981bc5d4": {
      "model_module": "@jupyter-widgets/base",
      "model_module_version": "1.2.0",
      "model_name": "LayoutModel",
      "state": {
       "_model_module": "@jupyter-widgets/base",
       "_model_module_version": "1.2.0",
       "_model_name": "LayoutModel",
       "_view_count": null,
       "_view_module": "@jupyter-widgets/base",
       "_view_module_version": "1.2.0",
       "_view_name": "LayoutView",
       "align_content": null,
       "align_items": null,
       "align_self": null,
       "border": null,
       "bottom": null,
       "display": null,
       "flex": null,
       "flex_flow": null,
       "grid_area": null,
       "grid_auto_columns": null,
       "grid_auto_flow": null,
       "grid_auto_rows": null,
       "grid_column": null,
       "grid_gap": null,
       "grid_row": null,
       "grid_template_areas": null,
       "grid_template_columns": null,
       "grid_template_rows": null,
       "height": null,
       "justify_content": null,
       "justify_items": null,
       "left": null,
       "margin": null,
       "max_height": null,
       "max_width": null,
       "min_height": null,
       "min_width": null,
       "object_fit": null,
       "object_position": null,
       "order": null,
       "overflow": null,
       "overflow_x": null,
       "overflow_y": null,
       "padding": null,
       "right": null,
       "top": null,
       "visibility": null,
       "width": null
      }
     },
     "08eeca2e7c0f45328836b55c56aa1238": {
      "model_module": "@jupyter-widgets/controls",
      "model_module_version": "1.5.0",
      "model_name": "DescriptionStyleModel",
      "state": {
       "_model_module": "@jupyter-widgets/controls",
       "_model_module_version": "1.5.0",
       "_model_name": "DescriptionStyleModel",
       "_view_count": null,
       "_view_module": "@jupyter-widgets/base",
       "_view_module_version": "1.2.0",
       "_view_name": "StyleView",
       "description_width": ""
      }
     },
     "0e29f886fb7045c789957940f9d4ecf1": {
      "model_module": "@jupyter-widgets/controls",
      "model_module_version": "1.5.0",
      "model_name": "HTMLModel",
      "state": {
       "_dom_classes": [],
       "_model_module": "@jupyter-widgets/controls",
       "_model_module_version": "1.5.0",
       "_model_name": "HTMLModel",
       "_view_count": null,
       "_view_module": "@jupyter-widgets/controls",
       "_view_module_version": "1.5.0",
       "_view_name": "HTMLView",
       "description": "",
       "description_tooltip": null,
       "layout": "IPY_MODEL_1d54a543d7f745bda37cb67f7125e93a",
       "placeholder": "​",
       "style": "IPY_MODEL_41d10b81c61d4fb2a19a7f43bc4aa40b",
       "value": " 1649664/? [00:00&lt;00:00, 17789367.59it/s]"
      }
     },
     "125576e7c28f4e5b97a44458af670e39": {
      "model_module": "@jupyter-widgets/controls",
      "model_module_version": "1.5.0",
      "model_name": "HTMLModel",
      "state": {
       "_dom_classes": [],
       "_model_module": "@jupyter-widgets/controls",
       "_model_module_version": "1.5.0",
       "_model_name": "HTMLModel",
       "_view_count": null,
       "_view_module": "@jupyter-widgets/controls",
       "_view_module_version": "1.5.0",
       "_view_name": "HTMLView",
       "description": "",
       "description_tooltip": null,
       "layout": "IPY_MODEL_d00c7db888174599a9b93850fd3c8ef1",
       "placeholder": "​",
       "style": "IPY_MODEL_3f1dd56a741b4659948dd16cff18ef2b",
       "value": ""
      }
     },
     "1d54a543d7f745bda37cb67f7125e93a": {
      "model_module": "@jupyter-widgets/base",
      "model_module_version": "1.2.0",
      "model_name": "LayoutModel",
      "state": {
       "_model_module": "@jupyter-widgets/base",
       "_model_module_version": "1.2.0",
       "_model_name": "LayoutModel",
       "_view_count": null,
       "_view_module": "@jupyter-widgets/base",
       "_view_module_version": "1.2.0",
       "_view_name": "LayoutView",
       "align_content": null,
       "align_items": null,
       "align_self": null,
       "border": null,
       "bottom": null,
       "display": null,
       "flex": null,
       "flex_flow": null,
       "grid_area": null,
       "grid_auto_columns": null,
       "grid_auto_flow": null,
       "grid_auto_rows": null,
       "grid_column": null,
       "grid_gap": null,
       "grid_row": null,
       "grid_template_areas": null,
       "grid_template_columns": null,
       "grid_template_rows": null,
       "height": null,
       "justify_content": null,
       "justify_items": null,
       "left": null,
       "margin": null,
       "max_height": null,
       "max_width": null,
       "min_height": null,
       "min_width": null,
       "object_fit": null,
       "object_position": null,
       "order": null,
       "overflow": null,
       "overflow_x": null,
       "overflow_y": null,
       "padding": null,
       "right": null,
       "top": null,
       "visibility": null,
       "width": null
      }
     },
     "22417383512b4e0bb15ea2055bcbf50c": {
      "model_module": "@jupyter-widgets/base",
      "model_module_version": "1.2.0",
      "model_name": "LayoutModel",
      "state": {
       "_model_module": "@jupyter-widgets/base",
       "_model_module_version": "1.2.0",
       "_model_name": "LayoutModel",
       "_view_count": null,
       "_view_module": "@jupyter-widgets/base",
       "_view_module_version": "1.2.0",
       "_view_name": "LayoutView",
       "align_content": null,
       "align_items": null,
       "align_self": null,
       "border": null,
       "bottom": null,
       "display": null,
       "flex": null,
       "flex_flow": null,
       "grid_area": null,
       "grid_auto_columns": null,
       "grid_auto_flow": null,
       "grid_auto_rows": null,
       "grid_column": null,
       "grid_gap": null,
       "grid_row": null,
       "grid_template_areas": null,
       "grid_template_columns": null,
       "grid_template_rows": null,
       "height": null,
       "justify_content": null,
       "justify_items": null,
       "left": null,
       "margin": null,
       "max_height": null,
       "max_width": null,
       "min_height": null,
       "min_width": null,
       "object_fit": null,
       "object_position": null,
       "order": null,
       "overflow": null,
       "overflow_x": null,
       "overflow_y": null,
       "padding": null,
       "right": null,
       "top": null,
       "visibility": null,
       "width": null
      }
     },
     "2a0cbd8153a3496f9448fd6fb94cc527": {
      "model_module": "@jupyter-widgets/base",
      "model_module_version": "1.2.0",
      "model_name": "LayoutModel",
      "state": {
       "_model_module": "@jupyter-widgets/base",
       "_model_module_version": "1.2.0",
       "_model_name": "LayoutModel",
       "_view_count": null,
       "_view_module": "@jupyter-widgets/base",
       "_view_module_version": "1.2.0",
       "_view_name": "LayoutView",
       "align_content": null,
       "align_items": null,
       "align_self": null,
       "border": null,
       "bottom": null,
       "display": null,
       "flex": null,
       "flex_flow": null,
       "grid_area": null,
       "grid_auto_columns": null,
       "grid_auto_flow": null,
       "grid_auto_rows": null,
       "grid_column": null,
       "grid_gap": null,
       "grid_row": null,
       "grid_template_areas": null,
       "grid_template_columns": null,
       "grid_template_rows": null,
       "height": null,
       "justify_content": null,
       "justify_items": null,
       "left": null,
       "margin": null,
       "max_height": null,
       "max_width": null,
       "min_height": null,
       "min_width": null,
       "object_fit": null,
       "object_position": null,
       "order": null,
       "overflow": null,
       "overflow_x": null,
       "overflow_y": null,
       "padding": null,
       "right": null,
       "top": null,
       "visibility": null,
       "width": null
      }
     },
     "36a89a3fc979473595cafe00ff855765": {
      "model_module": "@jupyter-widgets/controls",
      "model_module_version": "1.5.0",
      "model_name": "DescriptionStyleModel",
      "state": {
       "_model_module": "@jupyter-widgets/controls",
       "_model_module_version": "1.5.0",
       "_model_name": "DescriptionStyleModel",
       "_view_count": null,
       "_view_module": "@jupyter-widgets/base",
       "_view_module_version": "1.2.0",
       "_view_name": "StyleView",
       "description_width": ""
      }
     },
     "3f1dd56a741b4659948dd16cff18ef2b": {
      "model_module": "@jupyter-widgets/controls",
      "model_module_version": "1.5.0",
      "model_name": "DescriptionStyleModel",
      "state": {
       "_model_module": "@jupyter-widgets/controls",
       "_model_module_version": "1.5.0",
       "_model_name": "DescriptionStyleModel",
       "_view_count": null,
       "_view_module": "@jupyter-widgets/base",
       "_view_module_version": "1.2.0",
       "_view_name": "StyleView",
       "description_width": ""
      }
     },
     "41d10b81c61d4fb2a19a7f43bc4aa40b": {
      "model_module": "@jupyter-widgets/controls",
      "model_module_version": "1.5.0",
      "model_name": "DescriptionStyleModel",
      "state": {
       "_model_module": "@jupyter-widgets/controls",
       "_model_module_version": "1.5.0",
       "_model_name": "DescriptionStyleModel",
       "_view_count": null,
       "_view_module": "@jupyter-widgets/base",
       "_view_module_version": "1.2.0",
       "_view_name": "StyleView",
       "description_width": ""
      }
     },
     "45d82378d839460795b0c3a81d17a21d": {
      "model_module": "@jupyter-widgets/controls",
      "model_module_version": "1.5.0",
      "model_name": "HBoxModel",
      "state": {
       "_dom_classes": [],
       "_model_module": "@jupyter-widgets/controls",
       "_model_module_version": "1.5.0",
       "_model_name": "HBoxModel",
       "_view_count": null,
       "_view_module": "@jupyter-widgets/controls",
       "_view_module_version": "1.5.0",
       "_view_name": "HBoxView",
       "box_style": "",
       "children": [
        "IPY_MODEL_b5c85ae406d5485fafb3cbc11ad9cf6d",
        "IPY_MODEL_861013f9b7ee43d88b835274855a6993",
        "IPY_MODEL_0e29f886fb7045c789957940f9d4ecf1"
       ],
       "layout": "IPY_MODEL_88a42e2361f04805aec28537994090c0"
      }
     },
     "50ca33cf1f7e4487868958ad6055b5bf": {
      "model_module": "@jupyter-widgets/controls",
      "model_module_version": "1.5.0",
      "model_name": "HTMLModel",
      "state": {
       "_dom_classes": [],
       "_model_module": "@jupyter-widgets/controls",
       "_model_module_version": "1.5.0",
       "_model_name": "HTMLModel",
       "_view_count": null,
       "_view_module": "@jupyter-widgets/controls",
       "_view_module_version": "1.5.0",
       "_view_name": "HTMLView",
       "description": "",
       "description_tooltip": null,
       "layout": "IPY_MODEL_936ad621696b4ae8a6e58fef864cc656",
       "placeholder": "​",
       "style": "IPY_MODEL_f109268653e648b4bfc556bcb4111b80",
       "value": ""
      }
     },
     "5296791ab7134cb0ac9ad5298c3da1c4": {
      "model_module": "@jupyter-widgets/base",
      "model_module_version": "1.2.0",
      "model_name": "LayoutModel",
      "state": {
       "_model_module": "@jupyter-widgets/base",
       "_model_module_version": "1.2.0",
       "_model_name": "LayoutModel",
       "_view_count": null,
       "_view_module": "@jupyter-widgets/base",
       "_view_module_version": "1.2.0",
       "_view_name": "LayoutView",
       "align_content": null,
       "align_items": null,
       "align_self": null,
       "border": null,
       "bottom": null,
       "display": null,
       "flex": null,
       "flex_flow": null,
       "grid_area": null,
       "grid_auto_columns": null,
       "grid_auto_flow": null,
       "grid_auto_rows": null,
       "grid_column": null,
       "grid_gap": null,
       "grid_row": null,
       "grid_template_areas": null,
       "grid_template_columns": null,
       "grid_template_rows": null,
       "height": null,
       "justify_content": null,
       "justify_items": null,
       "left": null,
       "margin": null,
       "max_height": null,
       "max_width": null,
       "min_height": null,
       "min_width": null,
       "object_fit": null,
       "object_position": null,
       "order": null,
       "overflow": null,
       "overflow_x": null,
       "overflow_y": null,
       "padding": null,
       "right": null,
       "top": null,
       "visibility": null,
       "width": null
      }
     },
     "5ab42036680c4569a4a374d0b4abb29d": {
      "model_module": "@jupyter-widgets/controls",
      "model_module_version": "1.5.0",
      "model_name": "ProgressStyleModel",
      "state": {
       "_model_module": "@jupyter-widgets/controls",
       "_model_module_version": "1.5.0",
       "_model_name": "ProgressStyleModel",
       "_view_count": null,
       "_view_module": "@jupyter-widgets/base",
       "_view_module_version": "1.2.0",
       "_view_name": "StyleView",
       "bar_color": null,
       "description_width": ""
      }
     },
     "5c4cbad6e24e401688e8d469fe4533d3": {
      "model_module": "@jupyter-widgets/controls",
      "model_module_version": "1.5.0",
      "model_name": "FloatProgressModel",
      "state": {
       "_dom_classes": [],
       "_model_module": "@jupyter-widgets/controls",
       "_model_module_version": "1.5.0",
       "_model_name": "FloatProgressModel",
       "_view_count": null,
       "_view_module": "@jupyter-widgets/controls",
       "_view_module_version": "1.5.0",
       "_view_name": "ProgressView",
       "bar_style": "success",
       "description": "",
       "description_tooltip": null,
       "layout": "IPY_MODEL_c4905e3e9c98424591f4afb890744596",
       "max": 28881,
       "min": 0,
       "orientation": "horizontal",
       "style": "IPY_MODEL_acae58182aeb4d10938719efd9b96620",
       "value": 28881
      }
     },
     "6264ca76168d470ebf2306006f881acf": {
      "model_module": "@jupyter-widgets/controls",
      "model_module_version": "1.5.0",
      "model_name": "HTMLModel",
      "state": {
       "_dom_classes": [],
       "_model_module": "@jupyter-widgets/controls",
       "_model_module_version": "1.5.0",
       "_model_name": "HTMLModel",
       "_view_count": null,
       "_view_module": "@jupyter-widgets/controls",
       "_view_module_version": "1.5.0",
       "_view_name": "HTMLView",
       "description": "",
       "description_tooltip": null,
       "layout": "IPY_MODEL_b549c2fa502f474d8cd3ee2ac6583491",
       "placeholder": "​",
       "style": "IPY_MODEL_36a89a3fc979473595cafe00ff855765",
       "value": " 9913344/? [00:00&lt;00:00, 22829833.15it/s]"
      }
     },
     "7119092914fc43e9b78d7502c03458e9": {
      "model_module": "@jupyter-widgets/controls",
      "model_module_version": "1.5.0",
      "model_name": "FloatProgressModel",
      "state": {
       "_dom_classes": [],
       "_model_module": "@jupyter-widgets/controls",
       "_model_module_version": "1.5.0",
       "_model_name": "FloatProgressModel",
       "_view_count": null,
       "_view_module": "@jupyter-widgets/controls",
       "_view_module_version": "1.5.0",
       "_view_name": "ProgressView",
       "bar_style": "success",
       "description": "",
       "description_tooltip": null,
       "layout": "IPY_MODEL_ec427a4e2ef2410da4920ff2004b6a55",
       "max": 9912422,
       "min": 0,
       "orientation": "horizontal",
       "style": "IPY_MODEL_c0c390b500e446fdb810a4cc9b155079",
       "value": 9912422
      }
     },
     "72500940a0a64e93b12dbd90503b5c6c": {
      "model_module": "@jupyter-widgets/base",
      "model_module_version": "1.2.0",
      "model_name": "LayoutModel",
      "state": {
       "_model_module": "@jupyter-widgets/base",
       "_model_module_version": "1.2.0",
       "_model_name": "LayoutModel",
       "_view_count": null,
       "_view_module": "@jupyter-widgets/base",
       "_view_module_version": "1.2.0",
       "_view_name": "LayoutView",
       "align_content": null,
       "align_items": null,
       "align_self": null,
       "border": null,
       "bottom": null,
       "display": null,
       "flex": null,
       "flex_flow": null,
       "grid_area": null,
       "grid_auto_columns": null,
       "grid_auto_flow": null,
       "grid_auto_rows": null,
       "grid_column": null,
       "grid_gap": null,
       "grid_row": null,
       "grid_template_areas": null,
       "grid_template_columns": null,
       "grid_template_rows": null,
       "height": null,
       "justify_content": null,
       "justify_items": null,
       "left": null,
       "margin": null,
       "max_height": null,
       "max_width": null,
       "min_height": null,
       "min_width": null,
       "object_fit": null,
       "object_position": null,
       "order": null,
       "overflow": null,
       "overflow_x": null,
       "overflow_y": null,
       "padding": null,
       "right": null,
       "top": null,
       "visibility": null,
       "width": null
      }
     },
     "7d84175c34e44352ba1dce3e6111b858": {
      "model_module": "@jupyter-widgets/controls",
      "model_module_version": "1.5.0",
      "model_name": "FloatProgressModel",
      "state": {
       "_dom_classes": [],
       "_model_module": "@jupyter-widgets/controls",
       "_model_module_version": "1.5.0",
       "_model_name": "FloatProgressModel",
       "_view_count": null,
       "_view_module": "@jupyter-widgets/controls",
       "_view_module_version": "1.5.0",
       "_view_name": "ProgressView",
       "bar_style": "success",
       "description": "",
       "description_tooltip": null,
       "layout": "IPY_MODEL_0063711b62784dc0ab30896f1e201bbf",
       "max": 4542,
       "min": 0,
       "orientation": "horizontal",
       "style": "IPY_MODEL_5ab42036680c4569a4a374d0b4abb29d",
       "value": 4542
      }
     },
     "861013f9b7ee43d88b835274855a6993": {
      "model_module": "@jupyter-widgets/controls",
      "model_module_version": "1.5.0",
      "model_name": "FloatProgressModel",
      "state": {
       "_dom_classes": [],
       "_model_module": "@jupyter-widgets/controls",
       "_model_module_version": "1.5.0",
       "_model_name": "FloatProgressModel",
       "_view_count": null,
       "_view_module": "@jupyter-widgets/controls",
       "_view_module_version": "1.5.0",
       "_view_name": "ProgressView",
       "bar_style": "success",
       "description": "",
       "description_tooltip": null,
       "layout": "IPY_MODEL_9f47af9f9994452e85fe0fe6df326ab4",
       "max": 1648877,
       "min": 0,
       "orientation": "horizontal",
       "style": "IPY_MODEL_fe51b5840703435da05af07da1c309cf",
       "value": 1648877
      }
     },
     "88a42e2361f04805aec28537994090c0": {
      "model_module": "@jupyter-widgets/base",
      "model_module_version": "1.2.0",
      "model_name": "LayoutModel",
      "state": {
       "_model_module": "@jupyter-widgets/base",
       "_model_module_version": "1.2.0",
       "_model_name": "LayoutModel",
       "_view_count": null,
       "_view_module": "@jupyter-widgets/base",
       "_view_module_version": "1.2.0",
       "_view_name": "LayoutView",
       "align_content": null,
       "align_items": null,
       "align_self": null,
       "border": null,
       "bottom": null,
       "display": null,
       "flex": null,
       "flex_flow": null,
       "grid_area": null,
       "grid_auto_columns": null,
       "grid_auto_flow": null,
       "grid_auto_rows": null,
       "grid_column": null,
       "grid_gap": null,
       "grid_row": null,
       "grid_template_areas": null,
       "grid_template_columns": null,
       "grid_template_rows": null,
       "height": null,
       "justify_content": null,
       "justify_items": null,
       "left": null,
       "margin": null,
       "max_height": null,
       "max_width": null,
       "min_height": null,
       "min_width": null,
       "object_fit": null,
       "object_position": null,
       "order": null,
       "overflow": null,
       "overflow_x": null,
       "overflow_y": null,
       "padding": null,
       "right": null,
       "top": null,
       "visibility": null,
       "width": null
      }
     },
     "90da28a91d7645ea830c890af4574ce1": {
      "model_module": "@jupyter-widgets/controls",
      "model_module_version": "1.5.0",
      "model_name": "HTMLModel",
      "state": {
       "_dom_classes": [],
       "_model_module": "@jupyter-widgets/controls",
       "_model_module_version": "1.5.0",
       "_model_name": "HTMLModel",
       "_view_count": null,
       "_view_module": "@jupyter-widgets/controls",
       "_view_module_version": "1.5.0",
       "_view_name": "HTMLView",
       "description": "",
       "description_tooltip": null,
       "layout": "IPY_MODEL_d5d59c351a1c43218f5ac4567a374bfa",
       "placeholder": "​",
       "style": "IPY_MODEL_e4c37dd4877e44cab2fa58c221b8dd46",
       "value": ""
      }
     },
     "936ad621696b4ae8a6e58fef864cc656": {
      "model_module": "@jupyter-widgets/base",
      "model_module_version": "1.2.0",
      "model_name": "LayoutModel",
      "state": {
       "_model_module": "@jupyter-widgets/base",
       "_model_module_version": "1.2.0",
       "_model_name": "LayoutModel",
       "_view_count": null,
       "_view_module": "@jupyter-widgets/base",
       "_view_module_version": "1.2.0",
       "_view_name": "LayoutView",
       "align_content": null,
       "align_items": null,
       "align_self": null,
       "border": null,
       "bottom": null,
       "display": null,
       "flex": null,
       "flex_flow": null,
       "grid_area": null,
       "grid_auto_columns": null,
       "grid_auto_flow": null,
       "grid_auto_rows": null,
       "grid_column": null,
       "grid_gap": null,
       "grid_row": null,
       "grid_template_areas": null,
       "grid_template_columns": null,
       "grid_template_rows": null,
       "height": null,
       "justify_content": null,
       "justify_items": null,
       "left": null,
       "margin": null,
       "max_height": null,
       "max_width": null,
       "min_height": null,
       "min_width": null,
       "object_fit": null,
       "object_position": null,
       "order": null,
       "overflow": null,
       "overflow_x": null,
       "overflow_y": null,
       "padding": null,
       "right": null,
       "top": null,
       "visibility": null,
       "width": null
      }
     },
     "9f47af9f9994452e85fe0fe6df326ab4": {
      "model_module": "@jupyter-widgets/base",
      "model_module_version": "1.2.0",
      "model_name": "LayoutModel",
      "state": {
       "_model_module": "@jupyter-widgets/base",
       "_model_module_version": "1.2.0",
       "_model_name": "LayoutModel",
       "_view_count": null,
       "_view_module": "@jupyter-widgets/base",
       "_view_module_version": "1.2.0",
       "_view_name": "LayoutView",
       "align_content": null,
       "align_items": null,
       "align_self": null,
       "border": null,
       "bottom": null,
       "display": null,
       "flex": null,
       "flex_flow": null,
       "grid_area": null,
       "grid_auto_columns": null,
       "grid_auto_flow": null,
       "grid_auto_rows": null,
       "grid_column": null,
       "grid_gap": null,
       "grid_row": null,
       "grid_template_areas": null,
       "grid_template_columns": null,
       "grid_template_rows": null,
       "height": null,
       "justify_content": null,
       "justify_items": null,
       "left": null,
       "margin": null,
       "max_height": null,
       "max_width": null,
       "min_height": null,
       "min_width": null,
       "object_fit": null,
       "object_position": null,
       "order": null,
       "overflow": null,
       "overflow_x": null,
       "overflow_y": null,
       "padding": null,
       "right": null,
       "top": null,
       "visibility": null,
       "width": null
      }
     },
     "acae58182aeb4d10938719efd9b96620": {
      "model_module": "@jupyter-widgets/controls",
      "model_module_version": "1.5.0",
      "model_name": "ProgressStyleModel",
      "state": {
       "_model_module": "@jupyter-widgets/controls",
       "_model_module_version": "1.5.0",
       "_model_name": "ProgressStyleModel",
       "_view_count": null,
       "_view_module": "@jupyter-widgets/base",
       "_view_module_version": "1.2.0",
       "_view_name": "StyleView",
       "bar_color": null,
       "description_width": ""
      }
     },
     "b0b9c863a0ed4408aeed9818fdd19518": {
      "model_module": "@jupyter-widgets/controls",
      "model_module_version": "1.5.0",
      "model_name": "HBoxModel",
      "state": {
       "_dom_classes": [],
       "_model_module": "@jupyter-widgets/controls",
       "_model_module_version": "1.5.0",
       "_model_name": "HBoxModel",
       "_view_count": null,
       "_view_module": "@jupyter-widgets/controls",
       "_view_module_version": "1.5.0",
       "_view_name": "HBoxView",
       "box_style": "",
       "children": [
        "IPY_MODEL_90da28a91d7645ea830c890af4574ce1",
        "IPY_MODEL_7119092914fc43e9b78d7502c03458e9",
        "IPY_MODEL_6264ca76168d470ebf2306006f881acf"
       ],
       "layout": "IPY_MODEL_f2f2acddd7404e3a8dc037e24e4c4c0f"
      }
     },
     "b24341bed1cf48c8a1fd453746755700": {
      "model_module": "@jupyter-widgets/controls",
      "model_module_version": "1.5.0",
      "model_name": "HTMLModel",
      "state": {
       "_dom_classes": [],
       "_model_module": "@jupyter-widgets/controls",
       "_model_module_version": "1.5.0",
       "_model_name": "HTMLModel",
       "_view_count": null,
       "_view_module": "@jupyter-widgets/controls",
       "_view_module_version": "1.5.0",
       "_view_name": "HTMLView",
       "description": "",
       "description_tooltip": null,
       "layout": "IPY_MODEL_72500940a0a64e93b12dbd90503b5c6c",
       "placeholder": "​",
       "style": "IPY_MODEL_b9a5cc4873134180aff212368d29d2ca",
       "value": " 5120/? [00:00&lt;00:00, 210802.15it/s]"
      }
     },
     "b549c2fa502f474d8cd3ee2ac6583491": {
      "model_module": "@jupyter-widgets/base",
      "model_module_version": "1.2.0",
      "model_name": "LayoutModel",
      "state": {
       "_model_module": "@jupyter-widgets/base",
       "_model_module_version": "1.2.0",
       "_model_name": "LayoutModel",
       "_view_count": null,
       "_view_module": "@jupyter-widgets/base",
       "_view_module_version": "1.2.0",
       "_view_name": "LayoutView",
       "align_content": null,
       "align_items": null,
       "align_self": null,
       "border": null,
       "bottom": null,
       "display": null,
       "flex": null,
       "flex_flow": null,
       "grid_area": null,
       "grid_auto_columns": null,
       "grid_auto_flow": null,
       "grid_auto_rows": null,
       "grid_column": null,
       "grid_gap": null,
       "grid_row": null,
       "grid_template_areas": null,
       "grid_template_columns": null,
       "grid_template_rows": null,
       "height": null,
       "justify_content": null,
       "justify_items": null,
       "left": null,
       "margin": null,
       "max_height": null,
       "max_width": null,
       "min_height": null,
       "min_width": null,
       "object_fit": null,
       "object_position": null,
       "order": null,
       "overflow": null,
       "overflow_x": null,
       "overflow_y": null,
       "padding": null,
       "right": null,
       "top": null,
       "visibility": null,
       "width": null
      }
     },
     "b5c85ae406d5485fafb3cbc11ad9cf6d": {
      "model_module": "@jupyter-widgets/controls",
      "model_module_version": "1.5.0",
      "model_name": "HTMLModel",
      "state": {
       "_dom_classes": [],
       "_model_module": "@jupyter-widgets/controls",
       "_model_module_version": "1.5.0",
       "_model_name": "HTMLModel",
       "_view_count": null,
       "_view_module": "@jupyter-widgets/controls",
       "_view_module_version": "1.5.0",
       "_view_name": "HTMLView",
       "description": "",
       "description_tooltip": null,
       "layout": "IPY_MODEL_06529c97955d4feab0310436981bc5d4",
       "placeholder": "​",
       "style": "IPY_MODEL_e8f0ea44b1134c448f0a7388653fdc43",
       "value": ""
      }
     },
     "b9a5cc4873134180aff212368d29d2ca": {
      "model_module": "@jupyter-widgets/controls",
      "model_module_version": "1.5.0",
      "model_name": "DescriptionStyleModel",
      "state": {
       "_model_module": "@jupyter-widgets/controls",
       "_model_module_version": "1.5.0",
       "_model_name": "DescriptionStyleModel",
       "_view_count": null,
       "_view_module": "@jupyter-widgets/base",
       "_view_module_version": "1.2.0",
       "_view_name": "StyleView",
       "description_width": ""
      }
     },
     "bc7e1dd7aa1e432ca50e304de28d9267": {
      "model_module": "@jupyter-widgets/controls",
      "model_module_version": "1.5.0",
      "model_name": "HBoxModel",
      "state": {
       "_dom_classes": [],
       "_model_module": "@jupyter-widgets/controls",
       "_model_module_version": "1.5.0",
       "_model_name": "HBoxModel",
       "_view_count": null,
       "_view_module": "@jupyter-widgets/controls",
       "_view_module_version": "1.5.0",
       "_view_name": "HBoxView",
       "box_style": "",
       "children": [
        "IPY_MODEL_125576e7c28f4e5b97a44458af670e39",
        "IPY_MODEL_7d84175c34e44352ba1dce3e6111b858",
        "IPY_MODEL_b24341bed1cf48c8a1fd453746755700"
       ],
       "layout": "IPY_MODEL_2a0cbd8153a3496f9448fd6fb94cc527"
      }
     },
     "bcfeb1f2dc9c4b07aa8e4042a5589610": {
      "model_module": "@jupyter-widgets/controls",
      "model_module_version": "1.5.0",
      "model_name": "HBoxModel",
      "state": {
       "_dom_classes": [],
       "_model_module": "@jupyter-widgets/controls",
       "_model_module_version": "1.5.0",
       "_model_name": "HBoxModel",
       "_view_count": null,
       "_view_module": "@jupyter-widgets/controls",
       "_view_module_version": "1.5.0",
       "_view_name": "HBoxView",
       "box_style": "",
       "children": [
        "IPY_MODEL_50ca33cf1f7e4487868958ad6055b5bf",
        "IPY_MODEL_5c4cbad6e24e401688e8d469fe4533d3",
        "IPY_MODEL_c0069f0de0694957a079a814a81ba91b"
       ],
       "layout": "IPY_MODEL_5296791ab7134cb0ac9ad5298c3da1c4"
      }
     },
     "c0069f0de0694957a079a814a81ba91b": {
      "model_module": "@jupyter-widgets/controls",
      "model_module_version": "1.5.0",
      "model_name": "HTMLModel",
      "state": {
       "_dom_classes": [],
       "_model_module": "@jupyter-widgets/controls",
       "_model_module_version": "1.5.0",
       "_model_name": "HTMLModel",
       "_view_count": null,
       "_view_module": "@jupyter-widgets/controls",
       "_view_module_version": "1.5.0",
       "_view_name": "HTMLView",
       "description": "",
       "description_tooltip": null,
       "layout": "IPY_MODEL_22417383512b4e0bb15ea2055bcbf50c",
       "placeholder": "​",
       "style": "IPY_MODEL_08eeca2e7c0f45328836b55c56aa1238",
       "value": " 29696/? [00:00&lt;00:00, 1225105.75it/s]"
      }
     },
     "c0c390b500e446fdb810a4cc9b155079": {
      "model_module": "@jupyter-widgets/controls",
      "model_module_version": "1.5.0",
      "model_name": "ProgressStyleModel",
      "state": {
       "_model_module": "@jupyter-widgets/controls",
       "_model_module_version": "1.5.0",
       "_model_name": "ProgressStyleModel",
       "_view_count": null,
       "_view_module": "@jupyter-widgets/base",
       "_view_module_version": "1.2.0",
       "_view_name": "StyleView",
       "bar_color": null,
       "description_width": ""
      }
     },
     "c4905e3e9c98424591f4afb890744596": {
      "model_module": "@jupyter-widgets/base",
      "model_module_version": "1.2.0",
      "model_name": "LayoutModel",
      "state": {
       "_model_module": "@jupyter-widgets/base",
       "_model_module_version": "1.2.0",
       "_model_name": "LayoutModel",
       "_view_count": null,
       "_view_module": "@jupyter-widgets/base",
       "_view_module_version": "1.2.0",
       "_view_name": "LayoutView",
       "align_content": null,
       "align_items": null,
       "align_self": null,
       "border": null,
       "bottom": null,
       "display": null,
       "flex": null,
       "flex_flow": null,
       "grid_area": null,
       "grid_auto_columns": null,
       "grid_auto_flow": null,
       "grid_auto_rows": null,
       "grid_column": null,
       "grid_gap": null,
       "grid_row": null,
       "grid_template_areas": null,
       "grid_template_columns": null,
       "grid_template_rows": null,
       "height": null,
       "justify_content": null,
       "justify_items": null,
       "left": null,
       "margin": null,
       "max_height": null,
       "max_width": null,
       "min_height": null,
       "min_width": null,
       "object_fit": null,
       "object_position": null,
       "order": null,
       "overflow": null,
       "overflow_x": null,
       "overflow_y": null,
       "padding": null,
       "right": null,
       "top": null,
       "visibility": null,
       "width": null
      }
     },
     "d00c7db888174599a9b93850fd3c8ef1": {
      "model_module": "@jupyter-widgets/base",
      "model_module_version": "1.2.0",
      "model_name": "LayoutModel",
      "state": {
       "_model_module": "@jupyter-widgets/base",
       "_model_module_version": "1.2.0",
       "_model_name": "LayoutModel",
       "_view_count": null,
       "_view_module": "@jupyter-widgets/base",
       "_view_module_version": "1.2.0",
       "_view_name": "LayoutView",
       "align_content": null,
       "align_items": null,
       "align_self": null,
       "border": null,
       "bottom": null,
       "display": null,
       "flex": null,
       "flex_flow": null,
       "grid_area": null,
       "grid_auto_columns": null,
       "grid_auto_flow": null,
       "grid_auto_rows": null,
       "grid_column": null,
       "grid_gap": null,
       "grid_row": null,
       "grid_template_areas": null,
       "grid_template_columns": null,
       "grid_template_rows": null,
       "height": null,
       "justify_content": null,
       "justify_items": null,
       "left": null,
       "margin": null,
       "max_height": null,
       "max_width": null,
       "min_height": null,
       "min_width": null,
       "object_fit": null,
       "object_position": null,
       "order": null,
       "overflow": null,
       "overflow_x": null,
       "overflow_y": null,
       "padding": null,
       "right": null,
       "top": null,
       "visibility": null,
       "width": null
      }
     },
     "d5d59c351a1c43218f5ac4567a374bfa": {
      "model_module": "@jupyter-widgets/base",
      "model_module_version": "1.2.0",
      "model_name": "LayoutModel",
      "state": {
       "_model_module": "@jupyter-widgets/base",
       "_model_module_version": "1.2.0",
       "_model_name": "LayoutModel",
       "_view_count": null,
       "_view_module": "@jupyter-widgets/base",
       "_view_module_version": "1.2.0",
       "_view_name": "LayoutView",
       "align_content": null,
       "align_items": null,
       "align_self": null,
       "border": null,
       "bottom": null,
       "display": null,
       "flex": null,
       "flex_flow": null,
       "grid_area": null,
       "grid_auto_columns": null,
       "grid_auto_flow": null,
       "grid_auto_rows": null,
       "grid_column": null,
       "grid_gap": null,
       "grid_row": null,
       "grid_template_areas": null,
       "grid_template_columns": null,
       "grid_template_rows": null,
       "height": null,
       "justify_content": null,
       "justify_items": null,
       "left": null,
       "margin": null,
       "max_height": null,
       "max_width": null,
       "min_height": null,
       "min_width": null,
       "object_fit": null,
       "object_position": null,
       "order": null,
       "overflow": null,
       "overflow_x": null,
       "overflow_y": null,
       "padding": null,
       "right": null,
       "top": null,
       "visibility": null,
       "width": null
      }
     },
     "e4c37dd4877e44cab2fa58c221b8dd46": {
      "model_module": "@jupyter-widgets/controls",
      "model_module_version": "1.5.0",
      "model_name": "DescriptionStyleModel",
      "state": {
       "_model_module": "@jupyter-widgets/controls",
       "_model_module_version": "1.5.0",
       "_model_name": "DescriptionStyleModel",
       "_view_count": null,
       "_view_module": "@jupyter-widgets/base",
       "_view_module_version": "1.2.0",
       "_view_name": "StyleView",
       "description_width": ""
      }
     },
     "e8f0ea44b1134c448f0a7388653fdc43": {
      "model_module": "@jupyter-widgets/controls",
      "model_module_version": "1.5.0",
      "model_name": "DescriptionStyleModel",
      "state": {
       "_model_module": "@jupyter-widgets/controls",
       "_model_module_version": "1.5.0",
       "_model_name": "DescriptionStyleModel",
       "_view_count": null,
       "_view_module": "@jupyter-widgets/base",
       "_view_module_version": "1.2.0",
       "_view_name": "StyleView",
       "description_width": ""
      }
     },
     "ec427a4e2ef2410da4920ff2004b6a55": {
      "model_module": "@jupyter-widgets/base",
      "model_module_version": "1.2.0",
      "model_name": "LayoutModel",
      "state": {
       "_model_module": "@jupyter-widgets/base",
       "_model_module_version": "1.2.0",
       "_model_name": "LayoutModel",
       "_view_count": null,
       "_view_module": "@jupyter-widgets/base",
       "_view_module_version": "1.2.0",
       "_view_name": "LayoutView",
       "align_content": null,
       "align_items": null,
       "align_self": null,
       "border": null,
       "bottom": null,
       "display": null,
       "flex": null,
       "flex_flow": null,
       "grid_area": null,
       "grid_auto_columns": null,
       "grid_auto_flow": null,
       "grid_auto_rows": null,
       "grid_column": null,
       "grid_gap": null,
       "grid_row": null,
       "grid_template_areas": null,
       "grid_template_columns": null,
       "grid_template_rows": null,
       "height": null,
       "justify_content": null,
       "justify_items": null,
       "left": null,
       "margin": null,
       "max_height": null,
       "max_width": null,
       "min_height": null,
       "min_width": null,
       "object_fit": null,
       "object_position": null,
       "order": null,
       "overflow": null,
       "overflow_x": null,
       "overflow_y": null,
       "padding": null,
       "right": null,
       "top": null,
       "visibility": null,
       "width": null
      }
     },
     "f109268653e648b4bfc556bcb4111b80": {
      "model_module": "@jupyter-widgets/controls",
      "model_module_version": "1.5.0",
      "model_name": "DescriptionStyleModel",
      "state": {
       "_model_module": "@jupyter-widgets/controls",
       "_model_module_version": "1.5.0",
       "_model_name": "DescriptionStyleModel",
       "_view_count": null,
       "_view_module": "@jupyter-widgets/base",
       "_view_module_version": "1.2.0",
       "_view_name": "StyleView",
       "description_width": ""
      }
     },
     "f2f2acddd7404e3a8dc037e24e4c4c0f": {
      "model_module": "@jupyter-widgets/base",
      "model_module_version": "1.2.0",
      "model_name": "LayoutModel",
      "state": {
       "_model_module": "@jupyter-widgets/base",
       "_model_module_version": "1.2.0",
       "_model_name": "LayoutModel",
       "_view_count": null,
       "_view_module": "@jupyter-widgets/base",
       "_view_module_version": "1.2.0",
       "_view_name": "LayoutView",
       "align_content": null,
       "align_items": null,
       "align_self": null,
       "border": null,
       "bottom": null,
       "display": null,
       "flex": null,
       "flex_flow": null,
       "grid_area": null,
       "grid_auto_columns": null,
       "grid_auto_flow": null,
       "grid_auto_rows": null,
       "grid_column": null,
       "grid_gap": null,
       "grid_row": null,
       "grid_template_areas": null,
       "grid_template_columns": null,
       "grid_template_rows": null,
       "height": null,
       "justify_content": null,
       "justify_items": null,
       "left": null,
       "margin": null,
       "max_height": null,
       "max_width": null,
       "min_height": null,
       "min_width": null,
       "object_fit": null,
       "object_position": null,
       "order": null,
       "overflow": null,
       "overflow_x": null,
       "overflow_y": null,
       "padding": null,
       "right": null,
       "top": null,
       "visibility": null,
       "width": null
      }
     },
     "fe51b5840703435da05af07da1c309cf": {
      "model_module": "@jupyter-widgets/controls",
      "model_module_version": "1.5.0",
      "model_name": "ProgressStyleModel",
      "state": {
       "_model_module": "@jupyter-widgets/controls",
       "_model_module_version": "1.5.0",
       "_model_name": "ProgressStyleModel",
       "_view_count": null,
       "_view_module": "@jupyter-widgets/base",
       "_view_module_version": "1.2.0",
       "_view_name": "StyleView",
       "bar_color": null,
       "description_width": ""
      }
     }
    },
    "version_major": 2,
    "version_minor": 0
   }
  }
 },
 "nbformat": 4,
 "nbformat_minor": 5
}
